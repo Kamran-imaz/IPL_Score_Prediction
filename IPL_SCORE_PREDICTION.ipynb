{
  "nbformat": 4,
  "nbformat_minor": 0,
  "metadata": {
    "colab": {
      "provenance": [],
      "authorship_tag": "ABX9TyPqQkqbtEouIr+OzS4fc6P/",
      "include_colab_link": true
    },
    "kernelspec": {
      "name": "python3",
      "display_name": "Python 3"
    },
    "language_info": {
      "name": "python"
    }
  },
  "cells": [
    {
      "cell_type": "markdown",
      "metadata": {
        "id": "view-in-github",
        "colab_type": "text"
      },
      "source": [
        "<a href=\"https://colab.research.google.com/github/Kamran-imaz/IPL_Score_Prediction/blob/main/IPL_SCORE_PREDICTION.ipynb\" target=\"_parent\"><img src=\"https://colab.research.google.com/assets/colab-badge.svg\" alt=\"Open In Colab\"/></a>"
      ]
    },
    {
      "cell_type": "code",
      "execution_count": 2,
      "metadata": {
        "colab": {
          "base_uri": "https://localhost:8080/"
        },
        "id": "zfHZn52t6UXB",
        "outputId": "99e20811-25b3-4eaa-8960-4d327862c3d7"
      },
      "outputs": [
        {
          "output_type": "stream",
          "name": "stdout",
          "text": [
            "Collecting pyspark\n",
            "  Downloading pyspark-3.5.2.tar.gz (317.3 MB)\n",
            "\u001b[2K     \u001b[90m━━━━━━━━━━━━━━━━━━━━━━━━━━━━━━━━━━━━━━━━\u001b[0m \u001b[32m317.3/317.3 MB\u001b[0m \u001b[31m1.2 MB/s\u001b[0m eta \u001b[36m0:00:00\u001b[0m\n",
            "\u001b[?25h  Preparing metadata (setup.py) ... \u001b[?25l\u001b[?25hdone\n",
            "Requirement already satisfied: py4j==0.10.9.7 in /usr/local/lib/python3.10/dist-packages (from pyspark) (0.10.9.7)\n",
            "Building wheels for collected packages: pyspark\n",
            "  Building wheel for pyspark (setup.py) ... \u001b[?25l\u001b[?25hdone\n",
            "  Created wheel for pyspark: filename=pyspark-3.5.2-py2.py3-none-any.whl size=317812365 sha256=6d1be6b9f9b119c82f24797381aa78495d623bf31359faa1db6ef312998c9a83\n",
            "  Stored in directory: /root/.cache/pip/wheels/34/34/bd/03944534c44b677cd5859f248090daa9fb27b3c8f8e5f49574\n",
            "Successfully built pyspark\n",
            "Installing collected packages: pyspark\n",
            "Successfully installed pyspark-3.5.2\n"
          ]
        }
      ],
      "source": [
        "pip install pyspark"
      ]
    },
    {
      "cell_type": "code",
      "source": [
        "from pyspark.sql import SparkSession\n",
        "spark = SparkSession.builder.appName('IPL_SCORE').getOrCreate()"
      ],
      "metadata": {
        "id": "ZUgeJV577GuE"
      },
      "execution_count": 3,
      "outputs": []
    },
    {
      "cell_type": "code",
      "source": [
        "data_frame = spark.read.csv('/content/dataset/deliveries.csv',header = True, inferSchema=True )\n"
      ],
      "metadata": {
        "id": "K0dCn-sA7RKR"
      },
      "execution_count": 5,
      "outputs": []
    },
    {
      "cell_type": "code",
      "source": [
        "#length of the dataset\n",
        "data_frame.count()"
      ],
      "metadata": {
        "colab": {
          "base_uri": "https://localhost:8080/"
        },
        "id": "MDeTEH8c8OuX",
        "outputId": "c238e675-d518-41c9-e38e-59b33247ec64"
      },
      "execution_count": 6,
      "outputs": [
        {
          "output_type": "execute_result",
          "data": {
            "text/plain": [
              "40750"
            ]
          },
          "metadata": {},
          "execution_count": 6
        }
      ]
    },
    {
      "cell_type": "code",
      "source": [
        "data_frame.show()"
      ],
      "metadata": {
        "colab": {
          "base_uri": "https://localhost:8080/"
        },
        "id": "4SgaBS2i8kos",
        "outputId": "fc3936b1-3a1f-4f1b-8d60-72c199666e89"
      },
      "execution_count": 7,
      "outputs": [
        {
          "output_type": "stream",
          "name": "stdout",
          "text": [
            "+--------+------+--------------------+--------------------+----+----+-----------+---------+-----------+------------+----------+----------+-----------+---------+----------------+--------------+-------+\n",
            "|match_id|inning|        batting_team|        bowling_team|over|ball|     batter|   bowler|non_striker|batsman_runs|extra_runs|total_runs|extras_type|is_wicket|player_dismissed|dismissal_kind|fielder|\n",
            "+--------+------+--------------------+--------------------+----+----+-----------+---------+-----------+------------+----------+----------+-----------+---------+----------------+--------------+-------+\n",
            "|  335982|     1|Kolkata Knight Ri...|Royal Challengers...|   0|   1| SC Ganguly|  P Kumar|BB McCullum|           0|         1|         1|    legbyes|        0|              NA|            NA|     NA|\n",
            "|  335982|     1|Kolkata Knight Ri...|Royal Challengers...|   0|   2|BB McCullum|  P Kumar| SC Ganguly|           0|         0|         0|       NULL|        0|              NA|            NA|     NA|\n",
            "|  335982|     1|Kolkata Knight Ri...|Royal Challengers...|   0|   3|BB McCullum|  P Kumar| SC Ganguly|           0|         1|         1|      wides|        0|              NA|            NA|     NA|\n",
            "|  335982|     1|Kolkata Knight Ri...|Royal Challengers...|   0|   4|BB McCullum|  P Kumar| SC Ganguly|           0|         0|         0|       NULL|        0|              NA|            NA|     NA|\n",
            "|  335982|     1|Kolkata Knight Ri...|Royal Challengers...|   0|   5|BB McCullum|  P Kumar| SC Ganguly|           0|         0|         0|       NULL|        0|              NA|            NA|     NA|\n",
            "|  335982|     1|Kolkata Knight Ri...|Royal Challengers...|   0|   6|BB McCullum|  P Kumar| SC Ganguly|           0|         0|         0|       NULL|        0|              NA|            NA|     NA|\n",
            "|  335982|     1|Kolkata Knight Ri...|Royal Challengers...|   0|   7|BB McCullum|  P Kumar| SC Ganguly|           0|         1|         1|    legbyes|        0|              NA|            NA|     NA|\n",
            "|  335982|     1|Kolkata Knight Ri...|Royal Challengers...|   1|   1|BB McCullum|   Z Khan| SC Ganguly|           0|         0|         0|       NULL|        0|              NA|            NA|     NA|\n",
            "|  335982|     1|Kolkata Knight Ri...|Royal Challengers...|   1|   2|BB McCullum|   Z Khan| SC Ganguly|           4|         0|         4|       NULL|        0|              NA|            NA|     NA|\n",
            "|  335982|     1|Kolkata Knight Ri...|Royal Challengers...|   1|   3|BB McCullum|   Z Khan| SC Ganguly|           4|         0|         4|       NULL|        0|              NA|            NA|     NA|\n",
            "|  335982|     1|Kolkata Knight Ri...|Royal Challengers...|   1|   4|BB McCullum|   Z Khan| SC Ganguly|           6|         0|         6|       NULL|        0|              NA|            NA|     NA|\n",
            "|  335982|     1|Kolkata Knight Ri...|Royal Challengers...|   1|   5|BB McCullum|   Z Khan| SC Ganguly|           4|         0|         4|       NULL|        0|              NA|            NA|     NA|\n",
            "|  335982|     1|Kolkata Knight Ri...|Royal Challengers...|   1|   6|BB McCullum|   Z Khan| SC Ganguly|           0|         0|         0|       NULL|        0|              NA|            NA|     NA|\n",
            "|  335982|     1|Kolkata Knight Ri...|Royal Challengers...|   2|   1| SC Ganguly|  P Kumar|BB McCullum|           0|         0|         0|       NULL|        0|              NA|            NA|     NA|\n",
            "|  335982|     1|Kolkata Knight Ri...|Royal Challengers...|   2|   2| SC Ganguly|  P Kumar|BB McCullum|           0|         0|         0|       NULL|        0|              NA|            NA|     NA|\n",
            "|  335982|     1|Kolkata Knight Ri...|Royal Challengers...|   2|   3| SC Ganguly|  P Kumar|BB McCullum|           0|         1|         1|    legbyes|        0|              NA|            NA|     NA|\n",
            "|  335982|     1|Kolkata Knight Ri...|Royal Challengers...|   2|   4|BB McCullum|  P Kumar| SC Ganguly|           4|         0|         4|       NULL|        0|              NA|            NA|     NA|\n",
            "|  335982|     1|Kolkata Knight Ri...|Royal Challengers...|   2|   5|BB McCullum|  P Kumar| SC Ganguly|           1|         0|         1|       NULL|        0|              NA|            NA|     NA|\n",
            "|  335982|     1|Kolkata Knight Ri...|Royal Challengers...|   2|   6| SC Ganguly|  P Kumar|BB McCullum|           0|         0|         0|       NULL|        0|              NA|            NA|     NA|\n",
            "|  335982|     1|Kolkata Knight Ri...|Royal Challengers...|   3|   1|BB McCullum|AA Noffke| SC Ganguly|           0|         5|         5|      wides|        0|              NA|            NA|     NA|\n",
            "+--------+------+--------------------+--------------------+----+----+-----------+---------+-----------+------------+----------+----------+-----------+---------+----------------+--------------+-------+\n",
            "only showing top 20 rows\n",
            "\n"
          ]
        }
      ]
    },
    {
      "cell_type": "code",
      "source": [
        "# checking wether is_wicket is having value other than 0 or not?\n",
        "use_of_iswicket = data_frame.filter(data_frame['is_wicket'] != 0).count()\n",
        "use_of_iswicket"
      ],
      "metadata": {
        "colab": {
          "base_uri": "https://localhost:8080/"
        },
        "id": "HIqsPsJj8noR",
        "outputId": "ff95bdfe-85f2-477d-c5da-d696a252829f"
      },
      "execution_count": 8,
      "outputs": [
        {
          "output_type": "execute_result",
          "data": {
            "text/plain": [
              "2061"
            ]
          },
          "metadata": {},
          "execution_count": 8
        }
      ]
    },
    {
      "cell_type": "code",
      "source": [
        "# checking the usage of player_dismissed,dismissal_kind and fielder\n",
        "data_frame.filter(data_frame['player_dismissed'] != 'NA').show()\n",
        "data_frame.filter(data_frame['dismissal_kind'] != 'NA').show()\n",
        "data_frame.filter(data_frame['fielder']!='NA').show()\n",
        "\n",
        "# from these we can say that the the 3 columns are not valuable for us our target is to predict the score.\n",
        "# hence we remove these 3 columns."
      ],
      "metadata": {
        "colab": {
          "base_uri": "https://localhost:8080/"
        },
        "id": "hwYPdxXr-AhB",
        "outputId": "42059e7b-725a-4d1b-dc21-9c495f17a138"
      },
      "execution_count": 9,
      "outputs": [
        {
          "output_type": "stream",
          "name": "stdout",
          "text": [
            "+--------+------+--------------------+--------------------+----+----+----------+----------+-------------+------------+----------+----------+-----------+---------+----------------+--------------+---------------+\n",
            "|match_id|inning|        batting_team|        bowling_team|over|ball|    batter|    bowler|  non_striker|batsman_runs|extra_runs|total_runs|extras_type|is_wicket|player_dismissed|dismissal_kind|        fielder|\n",
            "+--------+------+--------------------+--------------------+----+----+----------+----------+-------------+------------+----------+----------+-----------+---------+----------------+--------------+---------------+\n",
            "|  335982|     1|Kolkata Knight Ri...|Royal Challengers...|   5|   2|SC Ganguly|    Z Khan|  BB McCullum|           0|         0|         0|       NULL|        1|      SC Ganguly|        caught|      JH Kallis|\n",
            "|  335982|     1|Kolkata Knight Ri...|Royal Challengers...|  12|   1|RT Ponting| JH Kallis|  BB McCullum|           0|         0|         0|       NULL|        1|      RT Ponting|        caught|        P Kumar|\n",
            "|  335982|     1|Kolkata Knight Ri...|Royal Challengers...|  17|   1| DJ Hussey| AA Noffke|  BB McCullum|           0|         0|         0|       NULL|        1|       DJ Hussey|        caught|       CL White|\n",
            "|  335982|     2|Royal Challengers...|Kolkata Knight Ri...|   1|   1|  R Dravid|  I Sharma|     W Jaffer|           0|         0|         0|       NULL|        1|        R Dravid|        bowled|             NA|\n",
            "|  335982|     2|Royal Challengers...|Kolkata Knight Ri...|   2|   2|   V Kohli|  AB Dinda|     W Jaffer|           0|         0|         0|       NULL|        1|         V Kohli|        bowled|             NA|\n",
            "|  335982|     2|Royal Challengers...|Kolkata Knight Ri...|   4|   5| JH Kallis|AB Agarkar|     W Jaffer|           0|         0|         0|       NULL|        1|       JH Kallis|        caught|       M Kartik|\n",
            "|  335982|     2|Royal Challengers...|Kolkata Knight Ri...|   5|   2|  W Jaffer|  AB Dinda|     CL White|           0|         0|         0|       NULL|        1|        W Jaffer|        caught|     RT Ponting|\n",
            "|  335982|     2|Royal Challengers...|Kolkata Knight Ri...|   7|   5|MV Boucher|SC Ganguly|     CL White|           0|         0|         0|       NULL|        1|      MV Boucher|        caught|       M Kartik|\n",
            "|  335982|     2|Royal Challengers...|Kolkata Knight Ri...|   8|   2|   B Akhil|AB Agarkar|     CL White|           0|         0|         0|       NULL|        1|         B Akhil|        caught|     RT Ponting|\n",
            "|  335982|     2|Royal Challengers...|Kolkata Knight Ri...|   8|   8|  CL White|AB Agarkar|    AA Noffke|           0|         0|         0|       NULL|        1|        CL White|        caught|        WP Saha|\n",
            "|  335982|     2|Royal Challengers...|Kolkata Knight Ri...|  11|   1| AA Noffke|SC Ganguly|      P Kumar|           1|         0|         1|       NULL|        1|       AA Noffke|       run out|     AB Agarkar|\n",
            "|  335982|     2|Royal Challengers...|Kolkata Knight Ri...|  13|   1|    Z Khan|SC Ganguly|      P Kumar|           0|         0|         0|       NULL|        1|          Z Khan|        bowled|             NA|\n",
            "|  335982|     2|Royal Challengers...|Kolkata Knight Ri...|  15|   2|  SB Joshi| LR Shukla|      P Kumar|           0|         0|         0|       NULL|        1|        SB Joshi|        caught|    BB McCullum|\n",
            "|  335983|     1| Chennai Super Kings|     Kings XI Punjab|   2|   5|  PA Patel|     B Lee|    ML Hayden|           0|         0|         0|       NULL|        1|        PA Patel|        caught|  KC Sangakkara|\n",
            "|  335983|     1| Chennai Super Kings|     Kings XI Punjab|   6|   2| ML Hayden| IK Pathan|   MEK Hussey|           0|         0|         0|       NULL|        1|       ML Hayden|        bowled|             NA|\n",
            "|  335983|     1| Chennai Super Kings|     Kings XI Punjab|   7|   1|  MS Dhoni|  JR Hopes|   MEK Hussey|           0|         0|         0|       NULL|        1|        MS Dhoni|           lbw|             NA|\n",
            "|  335983|     1| Chennai Super Kings|     Kings XI Punjab|  12|   2|  SK Raina|   WA Mota|   MEK Hussey|           0|         0|         0|       NULL|        1|        SK Raina|        caught|      IK Pathan|\n",
            "|  335983|     1| Chennai Super Kings|     Kings XI Punjab|  15|   3|  JDP Oram| IK Pathan|   MEK Hussey|           0|         0|         0|       NULL|        1|        JDP Oram|        bowled|             NA|\n",
            "|  335983|     2|     Kings XI Punjab| Chennai Super Kings|   5|   6|    K Goel|   MS Gony|     JR Hopes|           0|         0|         0|       NULL|        1|          K Goel|        caught|       PA Patel|\n",
            "|  335983|     2|     Kings XI Punjab| Chennai Super Kings|  10|   2|  JR Hopes|P Amarnath|KC Sangakkara|           0|         0|         0|       NULL|        1|        JR Hopes|        caught|Joginder Sharma|\n",
            "+--------+------+--------------------+--------------------+----+----+----------+----------+-------------+------------+----------+----------+-----------+---------+----------------+--------------+---------------+\n",
            "only showing top 20 rows\n",
            "\n",
            "+--------+------+--------------------+--------------------+----+----+----------+----------+-------------+------------+----------+----------+-----------+---------+----------------+--------------+---------------+\n",
            "|match_id|inning|        batting_team|        bowling_team|over|ball|    batter|    bowler|  non_striker|batsman_runs|extra_runs|total_runs|extras_type|is_wicket|player_dismissed|dismissal_kind|        fielder|\n",
            "+--------+------+--------------------+--------------------+----+----+----------+----------+-------------+------------+----------+----------+-----------+---------+----------------+--------------+---------------+\n",
            "|  335982|     1|Kolkata Knight Ri...|Royal Challengers...|   5|   2|SC Ganguly|    Z Khan|  BB McCullum|           0|         0|         0|       NULL|        1|      SC Ganguly|        caught|      JH Kallis|\n",
            "|  335982|     1|Kolkata Knight Ri...|Royal Challengers...|  12|   1|RT Ponting| JH Kallis|  BB McCullum|           0|         0|         0|       NULL|        1|      RT Ponting|        caught|        P Kumar|\n",
            "|  335982|     1|Kolkata Knight Ri...|Royal Challengers...|  17|   1| DJ Hussey| AA Noffke|  BB McCullum|           0|         0|         0|       NULL|        1|       DJ Hussey|        caught|       CL White|\n",
            "|  335982|     2|Royal Challengers...|Kolkata Knight Ri...|   1|   1|  R Dravid|  I Sharma|     W Jaffer|           0|         0|         0|       NULL|        1|        R Dravid|        bowled|             NA|\n",
            "|  335982|     2|Royal Challengers...|Kolkata Knight Ri...|   2|   2|   V Kohli|  AB Dinda|     W Jaffer|           0|         0|         0|       NULL|        1|         V Kohli|        bowled|             NA|\n",
            "|  335982|     2|Royal Challengers...|Kolkata Knight Ri...|   4|   5| JH Kallis|AB Agarkar|     W Jaffer|           0|         0|         0|       NULL|        1|       JH Kallis|        caught|       M Kartik|\n",
            "|  335982|     2|Royal Challengers...|Kolkata Knight Ri...|   5|   2|  W Jaffer|  AB Dinda|     CL White|           0|         0|         0|       NULL|        1|        W Jaffer|        caught|     RT Ponting|\n",
            "|  335982|     2|Royal Challengers...|Kolkata Knight Ri...|   7|   5|MV Boucher|SC Ganguly|     CL White|           0|         0|         0|       NULL|        1|      MV Boucher|        caught|       M Kartik|\n",
            "|  335982|     2|Royal Challengers...|Kolkata Knight Ri...|   8|   2|   B Akhil|AB Agarkar|     CL White|           0|         0|         0|       NULL|        1|         B Akhil|        caught|     RT Ponting|\n",
            "|  335982|     2|Royal Challengers...|Kolkata Knight Ri...|   8|   8|  CL White|AB Agarkar|    AA Noffke|           0|         0|         0|       NULL|        1|        CL White|        caught|        WP Saha|\n",
            "|  335982|     2|Royal Challengers...|Kolkata Knight Ri...|  11|   1| AA Noffke|SC Ganguly|      P Kumar|           1|         0|         1|       NULL|        1|       AA Noffke|       run out|     AB Agarkar|\n",
            "|  335982|     2|Royal Challengers...|Kolkata Knight Ri...|  13|   1|    Z Khan|SC Ganguly|      P Kumar|           0|         0|         0|       NULL|        1|          Z Khan|        bowled|             NA|\n",
            "|  335982|     2|Royal Challengers...|Kolkata Knight Ri...|  15|   2|  SB Joshi| LR Shukla|      P Kumar|           0|         0|         0|       NULL|        1|        SB Joshi|        caught|    BB McCullum|\n",
            "|  335983|     1| Chennai Super Kings|     Kings XI Punjab|   2|   5|  PA Patel|     B Lee|    ML Hayden|           0|         0|         0|       NULL|        1|        PA Patel|        caught|  KC Sangakkara|\n",
            "|  335983|     1| Chennai Super Kings|     Kings XI Punjab|   6|   2| ML Hayden| IK Pathan|   MEK Hussey|           0|         0|         0|       NULL|        1|       ML Hayden|        bowled|             NA|\n",
            "|  335983|     1| Chennai Super Kings|     Kings XI Punjab|   7|   1|  MS Dhoni|  JR Hopes|   MEK Hussey|           0|         0|         0|       NULL|        1|        MS Dhoni|           lbw|             NA|\n",
            "|  335983|     1| Chennai Super Kings|     Kings XI Punjab|  12|   2|  SK Raina|   WA Mota|   MEK Hussey|           0|         0|         0|       NULL|        1|        SK Raina|        caught|      IK Pathan|\n",
            "|  335983|     1| Chennai Super Kings|     Kings XI Punjab|  15|   3|  JDP Oram| IK Pathan|   MEK Hussey|           0|         0|         0|       NULL|        1|        JDP Oram|        bowled|             NA|\n",
            "|  335983|     2|     Kings XI Punjab| Chennai Super Kings|   5|   6|    K Goel|   MS Gony|     JR Hopes|           0|         0|         0|       NULL|        1|          K Goel|        caught|       PA Patel|\n",
            "|  335983|     2|     Kings XI Punjab| Chennai Super Kings|  10|   2|  JR Hopes|P Amarnath|KC Sangakkara|           0|         0|         0|       NULL|        1|        JR Hopes|        caught|Joginder Sharma|\n",
            "+--------+------+--------------------+--------------------+----+----+----------+----------+-------------+------------+----------+----------+-----------+---------+----------------+--------------+---------------+\n",
            "only showing top 20 rows\n",
            "\n",
            "+--------+------+--------------------+--------------------+----+----+-------------+---------------+-------------+------------+----------+----------+-----------+---------+----------------+--------------+---------------+\n",
            "|match_id|inning|        batting_team|        bowling_team|over|ball|       batter|         bowler|  non_striker|batsman_runs|extra_runs|total_runs|extras_type|is_wicket|player_dismissed|dismissal_kind|        fielder|\n",
            "+--------+------+--------------------+--------------------+----+----+-------------+---------------+-------------+------------+----------+----------+-----------+---------+----------------+--------------+---------------+\n",
            "|  335982|     1|Kolkata Knight Ri...|Royal Challengers...|   5|   2|   SC Ganguly|         Z Khan|  BB McCullum|           0|         0|         0|       NULL|        1|      SC Ganguly|        caught|      JH Kallis|\n",
            "|  335982|     1|Kolkata Knight Ri...|Royal Challengers...|  12|   1|   RT Ponting|      JH Kallis|  BB McCullum|           0|         0|         0|       NULL|        1|      RT Ponting|        caught|        P Kumar|\n",
            "|  335982|     1|Kolkata Knight Ri...|Royal Challengers...|  17|   1|    DJ Hussey|      AA Noffke|  BB McCullum|           0|         0|         0|       NULL|        1|       DJ Hussey|        caught|       CL White|\n",
            "|  335982|     2|Royal Challengers...|Kolkata Knight Ri...|   4|   5|    JH Kallis|     AB Agarkar|     W Jaffer|           0|         0|         0|       NULL|        1|       JH Kallis|        caught|       M Kartik|\n",
            "|  335982|     2|Royal Challengers...|Kolkata Knight Ri...|   5|   2|     W Jaffer|       AB Dinda|     CL White|           0|         0|         0|       NULL|        1|        W Jaffer|        caught|     RT Ponting|\n",
            "|  335982|     2|Royal Challengers...|Kolkata Knight Ri...|   7|   5|   MV Boucher|     SC Ganguly|     CL White|           0|         0|         0|       NULL|        1|      MV Boucher|        caught|       M Kartik|\n",
            "|  335982|     2|Royal Challengers...|Kolkata Knight Ri...|   8|   2|      B Akhil|     AB Agarkar|     CL White|           0|         0|         0|       NULL|        1|         B Akhil|        caught|     RT Ponting|\n",
            "|  335982|     2|Royal Challengers...|Kolkata Knight Ri...|   8|   8|     CL White|     AB Agarkar|    AA Noffke|           0|         0|         0|       NULL|        1|        CL White|        caught|        WP Saha|\n",
            "|  335982|     2|Royal Challengers...|Kolkata Knight Ri...|  11|   1|    AA Noffke|     SC Ganguly|      P Kumar|           1|         0|         1|       NULL|        1|       AA Noffke|       run out|     AB Agarkar|\n",
            "|  335982|     2|Royal Challengers...|Kolkata Knight Ri...|  15|   2|     SB Joshi|      LR Shukla|      P Kumar|           0|         0|         0|       NULL|        1|        SB Joshi|        caught|    BB McCullum|\n",
            "|  335983|     1| Chennai Super Kings|     Kings XI Punjab|   2|   5|     PA Patel|          B Lee|    ML Hayden|           0|         0|         0|       NULL|        1|        PA Patel|        caught|  KC Sangakkara|\n",
            "|  335983|     1| Chennai Super Kings|     Kings XI Punjab|  12|   2|     SK Raina|        WA Mota|   MEK Hussey|           0|         0|         0|       NULL|        1|        SK Raina|        caught|      IK Pathan|\n",
            "|  335983|     2|     Kings XI Punjab| Chennai Super Kings|   5|   6|       K Goel|        MS Gony|     JR Hopes|           0|         0|         0|       NULL|        1|          K Goel|        caught|       PA Patel|\n",
            "|  335983|     2|     Kings XI Punjab| Chennai Super Kings|  10|   2|     JR Hopes|     P Amarnath|KC Sangakkara|           0|         0|         0|       NULL|        1|        JR Hopes|        caught|Joginder Sharma|\n",
            "|  335983|     2|     Kings XI Punjab| Chennai Super Kings|  14|   2| Yuvraj Singh|Joginder Sharma|KC Sangakkara|           0|         0|         0|       NULL|        1|    Yuvraj Singh|        caught|     P Amarnath|\n",
            "|  335983|     2|     Kings XI Punjab| Chennai Super Kings|  17|   4|KC Sangakkara| M Muralitharan|    SM Katich|           0|         0|         0|       NULL|        1|   KC Sangakkara|        caught|Joginder Sharma|\n",
            "|  335984|     1|    Rajasthan Royals|    Delhi Daredevils|   2|   3|      T Kohli|     GD McGrath|    YK Pathan|           0|         0|         0|       NULL|        1|         T Kohli|        caught|       M Manhas|\n",
            "|  335984|     1|    Rajasthan Royals|    Delhi Daredevils|  10|   3|       M Kaif|       R Bhatia|    RA Jadeja|           0|         0|         0|       NULL|        1|          M Kaif|        caught|       B Geeves|\n",
            "|  335985|     1|      Mumbai Indians|Royal Challengers...|   1|   5|     L Ronchi|         Z Khan|ST Jayasuriya|           0|         0|         0|       NULL|        1|        L Ronchi|        caught|        V Kohli|\n",
            "|  335985|     1|      Mumbai Indians|Royal Challengers...|   5|   4|ST Jayasuriya|         Z Khan|   RV Uthappa|           0|         0|         0|       NULL|        1|   ST Jayasuriya|       run out|         Z Khan|\n",
            "+--------+------+--------------------+--------------------+----+----+-------------+---------------+-------------+------------+----------+----------+-----------+---------+----------------+--------------+---------------+\n",
            "only showing top 20 rows\n",
            "\n"
          ]
        }
      ]
    },
    {
      "cell_type": "code",
      "source": [
        "# droping the columns.\n",
        "data_frame = data_frame.drop('player_dismissed','dismissal_kind','fielder')"
      ],
      "metadata": {
        "id": "5xSA-GIB_M6c"
      },
      "execution_count": 10,
      "outputs": []
    },
    {
      "cell_type": "code",
      "source": [
        "# further we can see that there is no need of 'extra_type, batter, bowler,non_striker, batsman_runs' column also\n",
        "data_frame = data_frame.drop('extras_type', 'batter', 'bowler','non_striker','batsman_runs')\n",
        "data_frame.show()"
      ],
      "metadata": {
        "colab": {
          "base_uri": "https://localhost:8080/"
        },
        "id": "nl_k1LDZ_X1n",
        "outputId": "ae221d8c-e1dd-41ec-b027-dc6d5b0cf09b"
      },
      "execution_count": 11,
      "outputs": [
        {
          "output_type": "stream",
          "name": "stdout",
          "text": [
            "+--------+------+--------------------+--------------------+----+----+----------+----------+---------+\n",
            "|match_id|inning|        batting_team|        bowling_team|over|ball|extra_runs|total_runs|is_wicket|\n",
            "+--------+------+--------------------+--------------------+----+----+----------+----------+---------+\n",
            "|  335982|     1|Kolkata Knight Ri...|Royal Challengers...|   0|   1|         1|         1|        0|\n",
            "|  335982|     1|Kolkata Knight Ri...|Royal Challengers...|   0|   2|         0|         0|        0|\n",
            "|  335982|     1|Kolkata Knight Ri...|Royal Challengers...|   0|   3|         1|         1|        0|\n",
            "|  335982|     1|Kolkata Knight Ri...|Royal Challengers...|   0|   4|         0|         0|        0|\n",
            "|  335982|     1|Kolkata Knight Ri...|Royal Challengers...|   0|   5|         0|         0|        0|\n",
            "|  335982|     1|Kolkata Knight Ri...|Royal Challengers...|   0|   6|         0|         0|        0|\n",
            "|  335982|     1|Kolkata Knight Ri...|Royal Challengers...|   0|   7|         1|         1|        0|\n",
            "|  335982|     1|Kolkata Knight Ri...|Royal Challengers...|   1|   1|         0|         0|        0|\n",
            "|  335982|     1|Kolkata Knight Ri...|Royal Challengers...|   1|   2|         0|         4|        0|\n",
            "|  335982|     1|Kolkata Knight Ri...|Royal Challengers...|   1|   3|         0|         4|        0|\n",
            "|  335982|     1|Kolkata Knight Ri...|Royal Challengers...|   1|   4|         0|         6|        0|\n",
            "|  335982|     1|Kolkata Knight Ri...|Royal Challengers...|   1|   5|         0|         4|        0|\n",
            "|  335982|     1|Kolkata Knight Ri...|Royal Challengers...|   1|   6|         0|         0|        0|\n",
            "|  335982|     1|Kolkata Knight Ri...|Royal Challengers...|   2|   1|         0|         0|        0|\n",
            "|  335982|     1|Kolkata Knight Ri...|Royal Challengers...|   2|   2|         0|         0|        0|\n",
            "|  335982|     1|Kolkata Knight Ri...|Royal Challengers...|   2|   3|         1|         1|        0|\n",
            "|  335982|     1|Kolkata Knight Ri...|Royal Challengers...|   2|   4|         0|         4|        0|\n",
            "|  335982|     1|Kolkata Knight Ri...|Royal Challengers...|   2|   5|         0|         1|        0|\n",
            "|  335982|     1|Kolkata Knight Ri...|Royal Challengers...|   2|   6|         0|         0|        0|\n",
            "|  335982|     1|Kolkata Knight Ri...|Royal Challengers...|   3|   1|         5|         5|        0|\n",
            "+--------+------+--------------------+--------------------+----+----+----------+----------+---------+\n",
            "only showing top 20 rows\n",
            "\n"
          ]
        }
      ]
    },
    {
      "cell_type": "code",
      "source": [
        "# here we need to check wether the columns contains null values or not?\n",
        "# data_frame.filter(data_frame['batting_team'].isNull()).count() ---- No NULL Value found\n",
        "# data_frame.filter(data_frame['bowling_team'].isNull()).count() ---- No NULL Value found"
      ],
      "metadata": {
        "id": "D7ItRYE_EXW_"
      },
      "execution_count": 12,
      "outputs": []
    },
    {
      "cell_type": "code",
      "source": [
        "# since we removed the unwanted columns by manually but that is not enough since there might be lots of hard\n",
        "# to noticeable columns so we need to apply principal component analysis here.\n",
        "\n",
        "# since the vector assembler cannot convert the string directly so we need to convert it into numerical value using string indexer.\n",
        "from pyspark.ml.feature import StringIndexer\n",
        "indexers = [\n",
        "    StringIndexer(inputCol='batting_team', outputCol='batting_team_index'),\n",
        "    StringIndexer(inputCol='bowling_team', outputCol='bowling_team_index')\n",
        "]\n",
        "for indexer in indexers:\n",
        "    data_frame = indexer.fit(data_frame).transform(data_frame)\n"
      ],
      "metadata": {
        "id": "PWrHIxj0AFxh"
      },
      "execution_count": 13,
      "outputs": []
    },
    {
      "cell_type": "code",
      "source": [
        "inputs = ['match_id','extra_runs','batting_team_index', 'bowling_team_index', 'inning', 'over', 'ball', 'is_wicket']\n",
        "from pyspark.ml.feature import PCA, VectorAssembler\n",
        "assembler = VectorAssembler(inputCols=inputs,outputCol='features')\n",
        "new_df = assembler.transform(data_frame)\n",
        "new_df = new_df.drop('batting_team','bowling_team')\n",
        "new_df.show()"
      ],
      "metadata": {
        "colab": {
          "base_uri": "https://localhost:8080/"
        },
        "id": "07Wcww6PDSKb",
        "outputId": "e86fd8ae-43d8-494b-c012-1a7ef41e51bc"
      },
      "execution_count": 21,
      "outputs": [
        {
          "output_type": "stream",
          "name": "stdout",
          "text": [
            "+--------+------+----+----+----------+----------+---------+------------------+------------------+--------------------+\n",
            "|match_id|inning|over|ball|extra_runs|total_runs|is_wicket|batting_team_index|bowling_team_index|            features|\n",
            "+--------+------+----+----+----------+----------+---------+------------------+------------------+--------------------+\n",
            "|  335982|     1|   0|   1|         1|         1|        0|               7.0|               0.0|[335982.0,1.0,7.0...|\n",
            "|  335982|     1|   0|   2|         0|         0|        0|               7.0|               0.0|(8,[0,2,4,6],[335...|\n",
            "|  335982|     1|   0|   3|         1|         1|        0|               7.0|               0.0|[335982.0,1.0,7.0...|\n",
            "|  335982|     1|   0|   4|         0|         0|        0|               7.0|               0.0|(8,[0,2,4,6],[335...|\n",
            "|  335982|     1|   0|   5|         0|         0|        0|               7.0|               0.0|(8,[0,2,4,6],[335...|\n",
            "|  335982|     1|   0|   6|         0|         0|        0|               7.0|               0.0|(8,[0,2,4,6],[335...|\n",
            "|  335982|     1|   0|   7|         1|         1|        0|               7.0|               0.0|[335982.0,1.0,7.0...|\n",
            "|  335982|     1|   1|   1|         0|         0|        0|               7.0|               0.0|[335982.0,0.0,7.0...|\n",
            "|  335982|     1|   1|   2|         0|         4|        0|               7.0|               0.0|[335982.0,0.0,7.0...|\n",
            "|  335982|     1|   1|   3|         0|         4|        0|               7.0|               0.0|[335982.0,0.0,7.0...|\n",
            "|  335982|     1|   1|   4|         0|         6|        0|               7.0|               0.0|[335982.0,0.0,7.0...|\n",
            "|  335982|     1|   1|   5|         0|         4|        0|               7.0|               0.0|[335982.0,0.0,7.0...|\n",
            "|  335982|     1|   1|   6|         0|         0|        0|               7.0|               0.0|[335982.0,0.0,7.0...|\n",
            "|  335982|     1|   2|   1|         0|         0|        0|               7.0|               0.0|[335982.0,0.0,7.0...|\n",
            "|  335982|     1|   2|   2|         0|         0|        0|               7.0|               0.0|[335982.0,0.0,7.0...|\n",
            "|  335982|     1|   2|   3|         1|         1|        0|               7.0|               0.0|[335982.0,1.0,7.0...|\n",
            "|  335982|     1|   2|   4|         0|         4|        0|               7.0|               0.0|[335982.0,0.0,7.0...|\n",
            "|  335982|     1|   2|   5|         0|         1|        0|               7.0|               0.0|[335982.0,0.0,7.0...|\n",
            "|  335982|     1|   2|   6|         0|         0|        0|               7.0|               0.0|[335982.0,0.0,7.0...|\n",
            "|  335982|     1|   3|   1|         5|         5|        0|               7.0|               0.0|[335982.0,5.0,7.0...|\n",
            "+--------+------+----+----+----------+----------+---------+------------------+------------------+--------------------+\n",
            "only showing top 20 rows\n",
            "\n"
          ]
        }
      ]
    },
    {
      "cell_type": "code",
      "source": [
        "#since we have already imported PCA\n",
        "pca = PCA(inputCol='features',outputCol='pca_features',k=8)\n",
        "model = pca.fit(new_df)\n",
        "new_df = model.transform(new_df)"
      ],
      "metadata": {
        "id": "ZtRnUIdSFjbw"
      },
      "execution_count": 22,
      "outputs": []
    },
    {
      "cell_type": "code",
      "source": [
        "new_df.show()"
      ],
      "metadata": {
        "colab": {
          "base_uri": "https://localhost:8080/"
        },
        "id": "NsGIKbRJGMNT",
        "outputId": "52111d11-f44e-4005-b533-8bb9d05be65d"
      },
      "execution_count": 23,
      "outputs": [
        {
          "output_type": "stream",
          "name": "stdout",
          "text": [
            "+--------+------+----+----+----------+----------+---------+------------------+------------------+--------------------+--------------------+\n",
            "|match_id|inning|over|ball|extra_runs|total_runs|is_wicket|batting_team_index|bowling_team_index|            features|        pca_features|\n",
            "+--------+------+----+----+----------+----------+---------+------------------+------------------+--------------------+--------------------+\n",
            "|  335982|     1|   0|   1|         1|         1|        0|               7.0|               0.0|[335982.0,1.0,7.0...|[-335982.00000737...|\n",
            "|  335982|     1|   0|   2|         0|         0|        0|               7.0|               0.0|(8,[0,2,4,6],[335...|[-335982.00000739...|\n",
            "|  335982|     1|   0|   3|         1|         1|        0|               7.0|               0.0|[335982.0,1.0,7.0...|[-335982.00000723...|\n",
            "|  335982|     1|   0|   4|         0|         0|        0|               7.0|               0.0|(8,[0,2,4,6],[335...|[-335982.00000726...|\n",
            "|  335982|     1|   0|   5|         0|         0|        0|               7.0|               0.0|(8,[0,2,4,6],[335...|[-335982.00000719...|\n",
            "|  335982|     1|   0|   6|         0|         0|        0|               7.0|               0.0|(8,[0,2,4,6],[335...|[-335982.00000712...|\n",
            "|  335982|     1|   0|   7|         1|         1|        0|               7.0|               0.0|[335982.0,1.0,7.0...|[-335982.00000696...|\n",
            "|  335982|     1|   1|   1|         0|         0|        0|               7.0|               0.0|[335982.0,0.0,7.0...|[-335982.00001027...|\n",
            "|  335982|     1|   1|   2|         0|         4|        0|               7.0|               0.0|[335982.0,0.0,7.0...|[-335982.00001020...|\n",
            "|  335982|     1|   1|   3|         0|         4|        0|               7.0|               0.0|[335982.0,0.0,7.0...|[-335982.00001013...|\n",
            "|  335982|     1|   1|   4|         0|         6|        0|               7.0|               0.0|[335982.0,0.0,7.0...|[-335982.00001006...|\n",
            "|  335982|     1|   1|   5|         0|         4|        0|               7.0|               0.0|[335982.0,0.0,7.0...|[-335982.00001000...|\n",
            "|  335982|     1|   1|   6|         0|         0|        0|               7.0|               0.0|[335982.0,0.0,7.0...|[-335982.00000993...|\n",
            "|  335982|     1|   2|   1|         0|         0|        0|               7.0|               0.0|[335982.0,0.0,7.0...|[-335982.00001307...|\n",
            "|  335982|     1|   2|   2|         0|         0|        0|               7.0|               0.0|[335982.0,0.0,7.0...|[-335982.00001301...|\n",
            "|  335982|     1|   2|   3|         1|         1|        0|               7.0|               0.0|[335982.0,1.0,7.0...|[-335982.00001285...|\n",
            "|  335982|     1|   2|   4|         0|         4|        0|               7.0|               0.0|[335982.0,0.0,7.0...|[-335982.00001287...|\n",
            "|  335982|     1|   2|   5|         0|         1|        0|               7.0|               0.0|[335982.0,0.0,7.0...|[-335982.00001280...|\n",
            "|  335982|     1|   2|   6|         0|         0|        0|               7.0|               0.0|[335982.0,0.0,7.0...|[-335982.00001274...|\n",
            "|  335982|     1|   3|   1|         5|         5|        0|               7.0|               0.0|[335982.0,5.0,7.0...|[-335982.00001542...|\n",
            "+--------+------+----+----+----------+----------+---------+------------------+------------------+--------------------+--------------------+\n",
            "only showing top 20 rows\n",
            "\n"
          ]
        }
      ]
    },
    {
      "cell_type": "code",
      "source": [
        "loadings = model.pc.toArray()"
      ],
      "metadata": {
        "id": "ciMIxeTlIwg3"
      },
      "execution_count": 24,
      "outputs": []
    },
    {
      "cell_type": "code",
      "source": [
        "# taken from chatgpt reference.\n",
        "original_columns = ['match_id','extra_runs','batting_team_index', 'bowling_team_index', 'inning', 'over', 'ball', 'is_wicket']\n",
        "\n",
        "# PCA loadings\n",
        "for i, pc in enumerate(loadings):\n",
        "    print(f\"Principal Component {i+1} Loadings:\")\n",
        "    for j, loading in enumerate(pc):\n",
        "        print(f\"  {original_columns[j]}: {loading}\")\n"
      ],
      "metadata": {
        "colab": {
          "base_uri": "https://localhost:8080/"
        },
        "id": "9Q74O05LI935",
        "outputId": "c5db3a16-7e6b-4816-adee-f8ce86d22fc8"
      },
      "execution_count": 25,
      "outputs": [
        {
          "output_type": "stream",
          "name": "stdout",
          "text": [
            "Principal Component 1 Loadings:\n",
            "  match_id: -0.9999999999952109\n",
            "  extra_runs: -2.8021683937977314e-06\n",
            "  batting_team_index: 9.585381057551388e-07\n",
            "  bowling_team_index: 8.872284140421739e-07\n",
            "  inning: 5.4847479432834027e-08\n",
            "  over: -8.912994418091828e-08\n",
            "  ball: -9.1284486934976e-08\n",
            "  is_wicket: 2.9473896729743616e-08\n",
            "Principal Component 2 Loadings:\n",
            "  match_id: 9.216330511398363e-08\n",
            "  extra_runs: -0.0009196502682798827\n",
            "  batting_team_index: -0.00029165711185319214\n",
            "  bowling_team_index: -0.0018287263406168233\n",
            "  inning: -0.0005701252437237262\n",
            "  over: 0.009253715763342291\n",
            "  ball: -0.9992179346975576\n",
            "  is_wicket: 0.038383428976593775\n",
            "Principal Component 3 Loadings:\n",
            "  match_id: -1.2961019814363525e-06\n",
            "  extra_runs: -0.0038133824811116246\n",
            "  batting_team_index: -0.72311465338482\n",
            "  bowling_team_index: -0.6906768917728265\n",
            "  inning: -0.005621500302658776\n",
            "  over: 0.004707069192498768\n",
            "  ball: 0.001526171192382218\n",
            "  is_wicket: 1.946811328280231e-05\n",
            "Principal Component 4 Loadings:\n",
            "  match_id: 4.162971587599631e-08\n",
            "  extra_runs: -0.00712861796245071\n",
            "  batting_team_index: 0.6905240990905892\n",
            "  bowling_team_index: -0.7229849513510587\n",
            "  inning: -0.007200504197764919\n",
            "  over: -0.019119695014740694\n",
            "  ball: 0.0009422771589533615\n",
            "  is_wicket: -0.0003370705835907347\n",
            "Principal Component 5 Loadings:\n",
            "  match_id: -7.000095515429006e-08\n",
            "  extra_runs: -0.004781387563003163\n",
            "  batting_team_index: 0.016601927089104743\n",
            "  bowling_team_index: -0.01050855387436181\n",
            "  inning: -0.0015390887427237762\n",
            "  over: 0.9997487725120816\n",
            "  ball: 0.009351717073750999\n",
            "  is_wicket: 0.001911308338756174\n",
            "Principal Component 6 Loadings:\n",
            "  match_id: -2.8068356500817953e-06\n",
            "  extra_runs: 0.9999261190186117\n",
            "  batting_team_index: 0.0022502027219216403\n",
            "  bowling_team_index: -0.007904726032813862\n",
            "  inning: 0.00709562363228016\n",
            "  over: 0.0046868054075312774\n",
            "  ball: -0.0009684522192401251\n",
            "  is_wicket: -0.0026375123119303082\n",
            "Principal Component 7 Loadings:\n",
            "  match_id: 6.773097805069585e-08\n",
            "  extra_runs: -0.0071756507946791415\n",
            "  batting_team_index: 0.0009166648868837727\n",
            "  bowling_team_index: -0.00905027642110642\n",
            "  inning: 0.9999317285105043\n",
            "  over: 0.001399110873471134\n",
            "  ball: -0.000524674386942531\n",
            "  is_wicket: 0.0002603486140760902\n",
            "Principal Component 8 Loadings:\n",
            "  match_id: 1.8702597243189677e-08\n",
            "  extra_runs: 0.002683286893484908\n",
            "  batting_team_index: 0.00023216506193614298\n",
            "  bowling_team_index: -0.00015858321328214738\n",
            "  inning: -0.00021927141665975712\n",
            "  over: -0.002262235873077951\n",
            "  ball: 0.03836188341108731\n",
            "  is_wicket: 0.9992576850003457\n"
          ]
        }
      ]
    },
    {
      "cell_type": "code",
      "source": [
        "# Hence we can say that all are very important for us so now we can move to training of our model.\n",
        "# we will be using linear regression, decision tree regressor, random forest regressor, support vector regressor, neural network.\n",
        "from pyspark.ml.regression import LinearRegression, DecisionTreeRegressor, RandomForestRegressor, GBTRegressor\n",
        "from pyspark.ml.evaluation import RegressionEvaluator\n",
        "from pyspark.ml.tuning import CrossValidator,ParamGridBuilder\n",
        "#since we have already done the vector assembler....\n",
        "lr = LinearRegression(featuresCol='features',labelCol='total_runs')\n",
        "dtr = DecisionTreeRegressor(featuresCol='features',labelCol='total_runs')\n",
        "rfr = RandomForestRegressor(featuresCol='features',labelCol='total_runs')\n",
        "gbtr = GBTRegressor(featuresCol='features',labelCol='total_runs')\n"
      ],
      "metadata": {
        "id": "By3OfeKxKDeG"
      },
      "execution_count": 31,
      "outputs": []
    },
    {
      "cell_type": "code",
      "source": [
        "paramGrid = ParamGridBuilder().build()\n",
        "models = [(\"Linear_Regression\",lr),(\"Decision_Tree_Regressor\",dtr),(\"Random_Forest_Regressor\",rfr),(\"Gradient_Boosting_Regressor\",gbtr)]\n",
        "for name,model in models:\n",
        "  crossval = CrossValidator(numFolds=5,estimator=model,estimatorParamMaps=paramGrid,evaluator=RegressionEvaluator(labelCol='total_runs'))\n",
        "  cvModel = crossval.fit(new_df)\n",
        "  predictions = cvModel.transform(new_df)\n",
        "  evaluator = RegressionEvaluator(labelCol='total_runs')\n",
        "  rmse = evaluator.evaluate(predictions)\n",
        "  print(f\"RMSE {name} is {rmse}\")"
      ],
      "metadata": {
        "colab": {
          "base_uri": "https://localhost:8080/"
        },
        "id": "jj0RAl0-WV9H",
        "outputId": "b5ee1ad1-f833-4cd9-8290-a5a056e41836"
      },
      "execution_count": 33,
      "outputs": [
        {
          "output_type": "stream",
          "name": "stdout",
          "text": [
            "RMSE Linear_Regression is 1.5387369826793211\n",
            "RMSE Decision_Tree_Regressor is 1.5254465500762537\n",
            "RMSE Random_Forest_Regressor is 1.5263223978506848\n",
            "RMSE Gradient_Boosting_Regressor is 1.5054300914997487\n"
          ]
        }
      ]
    },
    {
      "cell_type": "code",
      "source": [],
      "metadata": {
        "id": "_J102QbzU8sS"
      },
      "execution_count": null,
      "outputs": []
    }
  ]
}