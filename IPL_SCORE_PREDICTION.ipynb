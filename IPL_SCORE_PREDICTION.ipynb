{
  "nbformat": 4,
  "nbformat_minor": 0,
  "metadata": {
    "colab": {
      "provenance": [],
      "authorship_tag": "ABX9TyMtkLJalgo/QKa1Ows0tdWX",
      "include_colab_link": true
    },
    "kernelspec": {
      "name": "python3",
      "display_name": "Python 3"
    },
    "language_info": {
      "name": "python"
    }
  },
  "cells": [
    {
      "cell_type": "markdown",
      "metadata": {
        "id": "view-in-github",
        "colab_type": "text"
      },
      "source": [
        "<a href=\"https://colab.research.google.com/github/Kamran-imaz/IPL_Score_Prediction/blob/main/IPL_SCORE_PREDICTION.ipynb\" target=\"_parent\"><img src=\"https://colab.research.google.com/assets/colab-badge.svg\" alt=\"Open In Colab\"/></a>"
      ]
    },
    {
      "cell_type": "markdown",
      "source": [
        "# Table of Contents\n",
        "\n",
        "1. Spark Session Creation and Dataset Loading\n",
        "2. Data Preprocessing\n",
        "3. Principal Component Analysis\n",
        "4. Model Training and Testing\n",
        "5. Stacking Method\n",
        "6. Testing on Real Data\n",
        "\n"
      ],
      "metadata": {
        "id": "Prb925Ij2IIl"
      }
    },
    {
      "cell_type": "code",
      "execution_count": 1,
      "metadata": {
        "colab": {
          "base_uri": "https://localhost:8080/"
        },
        "id": "zfHZn52t6UXB",
        "outputId": "60d9fed3-cf85-43dc-9254-3e9e067505f5"
      },
      "outputs": [
        {
          "output_type": "stream",
          "name": "stdout",
          "text": [
            "Collecting pyspark\n",
            "  Downloading pyspark-3.5.2.tar.gz (317.3 MB)\n",
            "\u001b[2K     \u001b[90m━━━━━━━━━━━━━━━━━━━━━━━━━━━━━━━━━━━━━━━━\u001b[0m \u001b[32m317.3/317.3 MB\u001b[0m \u001b[31m1.5 MB/s\u001b[0m eta \u001b[36m0:00:00\u001b[0m\n",
            "\u001b[?25h  Preparing metadata (setup.py) ... \u001b[?25l\u001b[?25hdone\n",
            "Requirement already satisfied: py4j==0.10.9.7 in /usr/local/lib/python3.10/dist-packages (from pyspark) (0.10.9.7)\n",
            "Building wheels for collected packages: pyspark\n",
            "  Building wheel for pyspark (setup.py) ... \u001b[?25l\u001b[?25hdone\n",
            "  Created wheel for pyspark: filename=pyspark-3.5.2-py2.py3-none-any.whl size=317812365 sha256=cb14dc42115b78210bd33d7e9864695766c7554695306b9eb47a7be63b48e9e8\n",
            "  Stored in directory: /root/.cache/pip/wheels/34/34/bd/03944534c44b677cd5859f248090daa9fb27b3c8f8e5f49574\n",
            "Successfully built pyspark\n",
            "Installing collected packages: pyspark\n",
            "Successfully installed pyspark-3.5.2\n"
          ]
        }
      ],
      "source": [
        "pip install pyspark"
      ]
    },
    {
      "cell_type": "code",
      "source": [
        "from pyspark.sql import SparkSession\n",
        "spark = SparkSession.builder.appName('IPL_SCORE').getOrCreate()"
      ],
      "metadata": {
        "id": "ZUgeJV577GuE"
      },
      "execution_count": 2,
      "outputs": []
    },
    {
      "cell_type": "code",
      "source": [
        "data_frame = spark.read.csv('/content/dataset/data.csv',header = True, inferSchema=True )\n"
      ],
      "metadata": {
        "id": "K0dCn-sA7RKR"
      },
      "execution_count": 94,
      "outputs": []
    },
    {
      "cell_type": "markdown",
      "source": [
        "# Data Pre-Processing"
      ],
      "metadata": {
        "id": "MeHxCbR9l-Mg"
      }
    },
    {
      "cell_type": "code",
      "source": [
        "# count no of rows in the data_frame\n",
        "data_frame.count()"
      ],
      "metadata": {
        "colab": {
          "base_uri": "https://localhost:8080/"
        },
        "id": "y9fWJSJKlrtl",
        "outputId": "0a350419-5fae-419c-8c68-03df59c8236a"
      },
      "execution_count": 95,
      "outputs": [
        {
          "output_type": "execute_result",
          "data": {
            "text/plain": [
              "76014"
            ]
          },
          "metadata": {},
          "execution_count": 95
        }
      ]
    },
    {
      "cell_type": "code",
      "source": [
        "# let's look at our dataset once...\n",
        "data_frame.show()"
      ],
      "metadata": {
        "colab": {
          "base_uri": "https://localhost:8080/"
        },
        "id": "aPMzQSoimEUY",
        "outputId": "7aa09841-58e2-4c17-9031-04d2d68391d4"
      },
      "execution_count": 96,
      "outputs": [
        {
          "output_type": "stream",
          "name": "stdout",
          "text": [
            "+---+----------+--------------------+--------------------+--------------------+-----------+---------+----+-------+-----+-----------+--------------+-------+-----------+-----+\n",
            "|mid|      date|               venue|        batting_team|        bowling_team|    batsman|   bowler|runs|wickets|overs|runs_last_5|wickets_last_5|striker|non-striker|total|\n",
            "+---+----------+--------------------+--------------------+--------------------+-----------+---------+----+-------+-----+-----------+--------------+-------+-----------+-----+\n",
            "|  1|2008-04-18|M Chinnaswamy Sta...|Kolkata Knight Ri...|Royal Challengers...| SC Ganguly|  P Kumar|   1|      0|  0.1|          1|             0|      0|          0|  222|\n",
            "|  1|2008-04-18|M Chinnaswamy Sta...|Kolkata Knight Ri...|Royal Challengers...|BB McCullum|  P Kumar|   1|      0|  0.2|          1|             0|      0|          0|  222|\n",
            "|  1|2008-04-18|M Chinnaswamy Sta...|Kolkata Knight Ri...|Royal Challengers...|BB McCullum|  P Kumar|   2|      0|  0.2|          2|             0|      0|          0|  222|\n",
            "|  1|2008-04-18|M Chinnaswamy Sta...|Kolkata Knight Ri...|Royal Challengers...|BB McCullum|  P Kumar|   2|      0|  0.3|          2|             0|      0|          0|  222|\n",
            "|  1|2008-04-18|M Chinnaswamy Sta...|Kolkata Knight Ri...|Royal Challengers...|BB McCullum|  P Kumar|   2|      0|  0.4|          2|             0|      0|          0|  222|\n",
            "|  1|2008-04-18|M Chinnaswamy Sta...|Kolkata Knight Ri...|Royal Challengers...|BB McCullum|  P Kumar|   2|      0|  0.5|          2|             0|      0|          0|  222|\n",
            "|  1|2008-04-18|M Chinnaswamy Sta...|Kolkata Knight Ri...|Royal Challengers...|BB McCullum|  P Kumar|   3|      0|  0.6|          3|             0|      0|          0|  222|\n",
            "|  1|2008-04-18|M Chinnaswamy Sta...|Kolkata Knight Ri...|Royal Challengers...|BB McCullum|   Z Khan|   3|      0|  1.1|          3|             0|      0|          0|  222|\n",
            "|  1|2008-04-18|M Chinnaswamy Sta...|Kolkata Knight Ri...|Royal Challengers...|BB McCullum|   Z Khan|   7|      0|  1.2|          7|             0|      4|          0|  222|\n",
            "|  1|2008-04-18|M Chinnaswamy Sta...|Kolkata Knight Ri...|Royal Challengers...|BB McCullum|   Z Khan|  11|      0|  1.3|         11|             0|      8|          0|  222|\n",
            "|  1|2008-04-18|M Chinnaswamy Sta...|Kolkata Knight Ri...|Royal Challengers...|BB McCullum|   Z Khan|  17|      0|  1.4|         17|             0|     14|          0|  222|\n",
            "|  1|2008-04-18|M Chinnaswamy Sta...|Kolkata Knight Ri...|Royal Challengers...|BB McCullum|   Z Khan|  21|      0|  1.5|         21|             0|     18|          0|  222|\n",
            "|  1|2008-04-18|M Chinnaswamy Sta...|Kolkata Knight Ri...|Royal Challengers...|BB McCullum|   Z Khan|  21|      0|  1.6|         21|             0|     18|          0|  222|\n",
            "|  1|2008-04-18|M Chinnaswamy Sta...|Kolkata Knight Ri...|Royal Challengers...| SC Ganguly|  P Kumar|  21|      0|  2.1|         21|             0|     18|          0|  222|\n",
            "|  1|2008-04-18|M Chinnaswamy Sta...|Kolkata Knight Ri...|Royal Challengers...| SC Ganguly|  P Kumar|  21|      0|  2.2|         21|             0|     18|          0|  222|\n",
            "|  1|2008-04-18|M Chinnaswamy Sta...|Kolkata Knight Ri...|Royal Challengers...| SC Ganguly|  P Kumar|  22|      0|  2.3|         22|             0|     18|          0|  222|\n",
            "|  1|2008-04-18|M Chinnaswamy Sta...|Kolkata Knight Ri...|Royal Challengers...|BB McCullum|  P Kumar|  26|      0|  2.4|         26|             0|     22|          0|  222|\n",
            "|  1|2008-04-18|M Chinnaswamy Sta...|Kolkata Knight Ri...|Royal Challengers...|BB McCullum|  P Kumar|  27|      0|  2.5|         27|             0|     23|          0|  222|\n",
            "|  1|2008-04-18|M Chinnaswamy Sta...|Kolkata Knight Ri...|Royal Challengers...| SC Ganguly|  P Kumar|  27|      0|  2.6|         27|             0|     23|          0|  222|\n",
            "|  1|2008-04-18|M Chinnaswamy Sta...|Kolkata Knight Ri...|Royal Challengers...|BB McCullum|AA Noffke|  32|      0|  3.0|         32|             0|     23|          0|  222|\n",
            "+---+----------+--------------------+--------------------+--------------------+-----------+---------+----+-------+-----+-----------+--------------+-------+-----------+-----+\n",
            "only showing top 20 rows\n",
            "\n"
          ]
        }
      ]
    },
    {
      "cell_type": "code",
      "source": [
        "# lets check wether we are having any null value in venue. we cannot delete the venue column directly\n",
        "# because it depends on the stadium pitch as well. so we will run pca and cross-check once!\n",
        "# as off now there is no such null valus in the venue. so we need not insert any values.\n",
        "data_frame.filter(data_frame['venue'].isNull()).count()"
      ],
      "metadata": {
        "colab": {
          "base_uri": "https://localhost:8080/"
        },
        "id": "FIBdDiOSnEQF",
        "outputId": "268fc8ec-7646-420f-ed1e-8668fa3a5026"
      },
      "execution_count": 97,
      "outputs": [
        {
          "output_type": "execute_result",
          "data": {
            "text/plain": [
              "0"
            ]
          },
          "metadata": {},
          "execution_count": 97
        }
      ]
    },
    {
      "cell_type": "code",
      "source": [
        "# Let us Remove Some Un-Wanted Columns (less-Variance Columns Manually)\n",
        "data_frame = data_frame.drop('mid','date','batsman','bowler','striker','non-striker')\n",
        "data_frame.show()"
      ],
      "metadata": {
        "colab": {
          "base_uri": "https://localhost:8080/"
        },
        "id": "9sPkk2ipmLtP",
        "outputId": "891faa26-bed7-4ae5-8d63-ecc9258b183c"
      },
      "execution_count": 98,
      "outputs": [
        {
          "output_type": "stream",
          "name": "stdout",
          "text": [
            "+--------------------+--------------------+--------------------+----+-------+-----+-----------+--------------+-----+\n",
            "|               venue|        batting_team|        bowling_team|runs|wickets|overs|runs_last_5|wickets_last_5|total|\n",
            "+--------------------+--------------------+--------------------+----+-------+-----+-----------+--------------+-----+\n",
            "|M Chinnaswamy Sta...|Kolkata Knight Ri...|Royal Challengers...|   1|      0|  0.1|          1|             0|  222|\n",
            "|M Chinnaswamy Sta...|Kolkata Knight Ri...|Royal Challengers...|   1|      0|  0.2|          1|             0|  222|\n",
            "|M Chinnaswamy Sta...|Kolkata Knight Ri...|Royal Challengers...|   2|      0|  0.2|          2|             0|  222|\n",
            "|M Chinnaswamy Sta...|Kolkata Knight Ri...|Royal Challengers...|   2|      0|  0.3|          2|             0|  222|\n",
            "|M Chinnaswamy Sta...|Kolkata Knight Ri...|Royal Challengers...|   2|      0|  0.4|          2|             0|  222|\n",
            "|M Chinnaswamy Sta...|Kolkata Knight Ri...|Royal Challengers...|   2|      0|  0.5|          2|             0|  222|\n",
            "|M Chinnaswamy Sta...|Kolkata Knight Ri...|Royal Challengers...|   3|      0|  0.6|          3|             0|  222|\n",
            "|M Chinnaswamy Sta...|Kolkata Knight Ri...|Royal Challengers...|   3|      0|  1.1|          3|             0|  222|\n",
            "|M Chinnaswamy Sta...|Kolkata Knight Ri...|Royal Challengers...|   7|      0|  1.2|          7|             0|  222|\n",
            "|M Chinnaswamy Sta...|Kolkata Knight Ri...|Royal Challengers...|  11|      0|  1.3|         11|             0|  222|\n",
            "|M Chinnaswamy Sta...|Kolkata Knight Ri...|Royal Challengers...|  17|      0|  1.4|         17|             0|  222|\n",
            "|M Chinnaswamy Sta...|Kolkata Knight Ri...|Royal Challengers...|  21|      0|  1.5|         21|             0|  222|\n",
            "|M Chinnaswamy Sta...|Kolkata Knight Ri...|Royal Challengers...|  21|      0|  1.6|         21|             0|  222|\n",
            "|M Chinnaswamy Sta...|Kolkata Knight Ri...|Royal Challengers...|  21|      0|  2.1|         21|             0|  222|\n",
            "|M Chinnaswamy Sta...|Kolkata Knight Ri...|Royal Challengers...|  21|      0|  2.2|         21|             0|  222|\n",
            "|M Chinnaswamy Sta...|Kolkata Knight Ri...|Royal Challengers...|  22|      0|  2.3|         22|             0|  222|\n",
            "|M Chinnaswamy Sta...|Kolkata Knight Ri...|Royal Challengers...|  26|      0|  2.4|         26|             0|  222|\n",
            "|M Chinnaswamy Sta...|Kolkata Knight Ri...|Royal Challengers...|  27|      0|  2.5|         27|             0|  222|\n",
            "|M Chinnaswamy Sta...|Kolkata Knight Ri...|Royal Challengers...|  27|      0|  2.6|         27|             0|  222|\n",
            "|M Chinnaswamy Sta...|Kolkata Knight Ri...|Royal Challengers...|  32|      0|  3.0|         32|             0|  222|\n",
            "+--------------------+--------------------+--------------------+----+-------+-----+-----------+--------------+-----+\n",
            "only showing top 20 rows\n",
            "\n"
          ]
        }
      ]
    },
    {
      "cell_type": "code",
      "source": [
        "# let us look how many unique teams and venues are there!\n",
        "data_frame.select('venue').distinct().count()"
      ],
      "metadata": {
        "colab": {
          "base_uri": "https://localhost:8080/"
        },
        "id": "7lTJd1U8oVRl",
        "outputId": "8407ef07-d6aa-4205-a108-af2a4507838a"
      },
      "execution_count": 99,
      "outputs": [
        {
          "output_type": "execute_result",
          "data": {
            "text/plain": [
              "35"
            ]
          },
          "metadata": {},
          "execution_count": 99
        }
      ]
    },
    {
      "cell_type": "code",
      "source": [
        "# since we are having huge no of venues so it will be messy when we do one-hot encoding and string Indexing\n",
        "# so let us remove this column also.\n",
        "data_frame = data_frame.drop('venue')"
      ],
      "metadata": {
        "id": "pUPJB_9lpEgH"
      },
      "execution_count": 100,
      "outputs": []
    },
    {
      "cell_type": "code",
      "source": [
        "# so now let us look at the batting_team column\n",
        "data_frame.select('batting_team').distinct().count()\n",
        "data_frame.select('batting_team').distinct().show()"
      ],
      "metadata": {
        "colab": {
          "base_uri": "https://localhost:8080/"
        },
        "id": "UYHObWSTpRE-",
        "outputId": "af8abc89-6c1b-45dd-d4f8-bedaf3478465"
      },
      "execution_count": 101,
      "outputs": [
        {
          "output_type": "stream",
          "name": "stdout",
          "text": [
            "+--------------------+\n",
            "|        batting_team|\n",
            "+--------------------+\n",
            "| Sunrisers Hyderabad|\n",
            "| Chennai Super Kings|\n",
            "|     Deccan Chargers|\n",
            "|Kochi Tuskers Kerala|\n",
            "|    Rajasthan Royals|\n",
            "|Royal Challengers...|\n",
            "|Kolkata Knight Ri...|\n",
            "|     Kings XI Punjab|\n",
            "|       Pune Warriors|\n",
            "|    Delhi Daredevils|\n",
            "|      Mumbai Indians|\n",
            "|Rising Pune Super...|\n",
            "|       Gujarat Lions|\n",
            "|Rising Pune Super...|\n",
            "+--------------------+\n",
            "\n"
          ]
        }
      ]
    },
    {
      "cell_type": "code",
      "source": [
        "# let us write only the consistent teams which play most of the matches in one list for the future purpose.\n",
        "teams=['Kolkata Knight Riders', 'Chennai Super Kings', 'Rajasthan Royals',\n",
        "              'Mumbai Indians', 'Kings XI Punjab', 'Royal Challengers Bangalore',\n",
        "              'Delhi Daredevils', 'Sunrisers Hyderabad']"
      ],
      "metadata": {
        "id": "gTu2Hcu2pleA"
      },
      "execution_count": 102,
      "outputs": []
    },
    {
      "cell_type": "code",
      "source": [
        "# now let us remove other teams from our datasets.\n",
        "data_frame = data_frame.filter(data_frame['batting_team'].isin(teams) & data_frame['bowling_team'].isin(teams))\n",
        "data_frame.show()"
      ],
      "metadata": {
        "colab": {
          "base_uri": "https://localhost:8080/"
        },
        "id": "nblPvlnmqAJp",
        "outputId": "fddacff0-1fff-4d28-d99f-0331ab106511"
      },
      "execution_count": 103,
      "outputs": [
        {
          "output_type": "stream",
          "name": "stdout",
          "text": [
            "+--------------------+--------------------+----+-------+-----+-----------+--------------+-----+\n",
            "|        batting_team|        bowling_team|runs|wickets|overs|runs_last_5|wickets_last_5|total|\n",
            "+--------------------+--------------------+----+-------+-----+-----------+--------------+-----+\n",
            "|Kolkata Knight Ri...|Royal Challengers...|   1|      0|  0.1|          1|             0|  222|\n",
            "|Kolkata Knight Ri...|Royal Challengers...|   1|      0|  0.2|          1|             0|  222|\n",
            "|Kolkata Knight Ri...|Royal Challengers...|   2|      0|  0.2|          2|             0|  222|\n",
            "|Kolkata Knight Ri...|Royal Challengers...|   2|      0|  0.3|          2|             0|  222|\n",
            "|Kolkata Knight Ri...|Royal Challengers...|   2|      0|  0.4|          2|             0|  222|\n",
            "|Kolkata Knight Ri...|Royal Challengers...|   2|      0|  0.5|          2|             0|  222|\n",
            "|Kolkata Knight Ri...|Royal Challengers...|   3|      0|  0.6|          3|             0|  222|\n",
            "|Kolkata Knight Ri...|Royal Challengers...|   3|      0|  1.1|          3|             0|  222|\n",
            "|Kolkata Knight Ri...|Royal Challengers...|   7|      0|  1.2|          7|             0|  222|\n",
            "|Kolkata Knight Ri...|Royal Challengers...|  11|      0|  1.3|         11|             0|  222|\n",
            "|Kolkata Knight Ri...|Royal Challengers...|  17|      0|  1.4|         17|             0|  222|\n",
            "|Kolkata Knight Ri...|Royal Challengers...|  21|      0|  1.5|         21|             0|  222|\n",
            "|Kolkata Knight Ri...|Royal Challengers...|  21|      0|  1.6|         21|             0|  222|\n",
            "|Kolkata Knight Ri...|Royal Challengers...|  21|      0|  2.1|         21|             0|  222|\n",
            "|Kolkata Knight Ri...|Royal Challengers...|  21|      0|  2.2|         21|             0|  222|\n",
            "|Kolkata Knight Ri...|Royal Challengers...|  22|      0|  2.3|         22|             0|  222|\n",
            "|Kolkata Knight Ri...|Royal Challengers...|  26|      0|  2.4|         26|             0|  222|\n",
            "|Kolkata Knight Ri...|Royal Challengers...|  27|      0|  2.5|         27|             0|  222|\n",
            "|Kolkata Knight Ri...|Royal Challengers...|  27|      0|  2.6|         27|             0|  222|\n",
            "|Kolkata Knight Ri...|Royal Challengers...|  32|      0|  3.0|         32|             0|  222|\n",
            "+--------------------+--------------------+----+-------+-----+-----------+--------------+-----+\n",
            "only showing top 20 rows\n",
            "\n"
          ]
        }
      ]
    },
    {
      "cell_type": "code",
      "source": [
        "# now count the length of the dataset.\n",
        "data_frame.count()"
      ],
      "metadata": {
        "colab": {
          "base_uri": "https://localhost:8080/"
        },
        "id": "l3Ot1RkpqlSl",
        "outputId": "1c4b206c-6457-402d-f386-b06b62586586"
      },
      "execution_count": 104,
      "outputs": [
        {
          "output_type": "execute_result",
          "data": {
            "text/plain": [
              "53811"
            ]
          },
          "metadata": {},
          "execution_count": 104
        }
      ]
    },
    {
      "cell_type": "code",
      "source": [
        "# now let us convert the batting_team to numerical variable string Indexer followed by one-hot encoder\n",
        "from pyspark.ml.feature import StringIndexer, OneHotEncoder\n",
        "indexer = StringIndexer(inputCol='batting_team',outputCol='batting_team_index')\n",
        "data_frame = indexer.fit(data_frame).transform(data_frame)\n",
        "encoder = OneHotEncoder(inputCol='batting_team_index',outputCol='batting_team_vector')\n",
        "data_frame = encoder.fit(data_frame).transform(data_frame)\n",
        "data_frame.show()"
      ],
      "metadata": {
        "colab": {
          "base_uri": "https://localhost:8080/"
        },
        "id": "VmwCte84qtzq",
        "outputId": "102c7660-2c10-4b84-a4f1-bb6dfd8c8c65"
      },
      "execution_count": 105,
      "outputs": [
        {
          "output_type": "stream",
          "name": "stdout",
          "text": [
            "+--------------------+--------------------+----+-------+-----+-----------+--------------+-----+------------------+-------------------+\n",
            "|        batting_team|        bowling_team|runs|wickets|overs|runs_last_5|wickets_last_5|total|batting_team_index|batting_team_vector|\n",
            "+--------------------+--------------------+----+-------+-----+-----------+--------------+-----+------------------+-------------------+\n",
            "|Kolkata Knight Ri...|Royal Challengers...|   1|      0|  0.1|          1|             0|  222|               4.0|      (7,[4],[1.0])|\n",
            "|Kolkata Knight Ri...|Royal Challengers...|   1|      0|  0.2|          1|             0|  222|               4.0|      (7,[4],[1.0])|\n",
            "|Kolkata Knight Ri...|Royal Challengers...|   2|      0|  0.2|          2|             0|  222|               4.0|      (7,[4],[1.0])|\n",
            "|Kolkata Knight Ri...|Royal Challengers...|   2|      0|  0.3|          2|             0|  222|               4.0|      (7,[4],[1.0])|\n",
            "|Kolkata Knight Ri...|Royal Challengers...|   2|      0|  0.4|          2|             0|  222|               4.0|      (7,[4],[1.0])|\n",
            "|Kolkata Knight Ri...|Royal Challengers...|   2|      0|  0.5|          2|             0|  222|               4.0|      (7,[4],[1.0])|\n",
            "|Kolkata Knight Ri...|Royal Challengers...|   3|      0|  0.6|          3|             0|  222|               4.0|      (7,[4],[1.0])|\n",
            "|Kolkata Knight Ri...|Royal Challengers...|   3|      0|  1.1|          3|             0|  222|               4.0|      (7,[4],[1.0])|\n",
            "|Kolkata Knight Ri...|Royal Challengers...|   7|      0|  1.2|          7|             0|  222|               4.0|      (7,[4],[1.0])|\n",
            "|Kolkata Knight Ri...|Royal Challengers...|  11|      0|  1.3|         11|             0|  222|               4.0|      (7,[4],[1.0])|\n",
            "|Kolkata Knight Ri...|Royal Challengers...|  17|      0|  1.4|         17|             0|  222|               4.0|      (7,[4],[1.0])|\n",
            "|Kolkata Knight Ri...|Royal Challengers...|  21|      0|  1.5|         21|             0|  222|               4.0|      (7,[4],[1.0])|\n",
            "|Kolkata Knight Ri...|Royal Challengers...|  21|      0|  1.6|         21|             0|  222|               4.0|      (7,[4],[1.0])|\n",
            "|Kolkata Knight Ri...|Royal Challengers...|  21|      0|  2.1|         21|             0|  222|               4.0|      (7,[4],[1.0])|\n",
            "|Kolkata Knight Ri...|Royal Challengers...|  21|      0|  2.2|         21|             0|  222|               4.0|      (7,[4],[1.0])|\n",
            "|Kolkata Knight Ri...|Royal Challengers...|  22|      0|  2.3|         22|             0|  222|               4.0|      (7,[4],[1.0])|\n",
            "|Kolkata Knight Ri...|Royal Challengers...|  26|      0|  2.4|         26|             0|  222|               4.0|      (7,[4],[1.0])|\n",
            "|Kolkata Knight Ri...|Royal Challengers...|  27|      0|  2.5|         27|             0|  222|               4.0|      (7,[4],[1.0])|\n",
            "|Kolkata Knight Ri...|Royal Challengers...|  27|      0|  2.6|         27|             0|  222|               4.0|      (7,[4],[1.0])|\n",
            "|Kolkata Knight Ri...|Royal Challengers...|  32|      0|  3.0|         32|             0|  222|               4.0|      (7,[4],[1.0])|\n",
            "+--------------------+--------------------+----+-------+-----+-----------+--------------+-----+------------------+-------------------+\n",
            "only showing top 20 rows\n",
            "\n"
          ]
        }
      ]
    },
    {
      "cell_type": "code",
      "source": [
        "# now let us check which team is assigned which index number.\n",
        "data_frame.select('batting_team','batting_team_index').distinct().show()"
      ],
      "metadata": {
        "colab": {
          "base_uri": "https://localhost:8080/"
        },
        "id": "C3Ys7h_mbjaO",
        "outputId": "2f0ccb38-c5ba-4e0c-9afd-55388a7c5605"
      },
      "execution_count": 136,
      "outputs": [
        {
          "output_type": "stream",
          "name": "stdout",
          "text": [
            "+--------------------+------------------+\n",
            "|        batting_team|batting_team_index|\n",
            "+--------------------+------------------+\n",
            "| Sunrisers Hyderabad|               7.0|\n",
            "|Kolkata Knight Ri...|               4.0|\n",
            "| Chennai Super Kings|               2.0|\n",
            "|     Kings XI Punjab|               1.0|\n",
            "|Royal Challengers...|               3.0|\n",
            "|      Mumbai Indians|               0.0|\n",
            "|    Delhi Daredevils|               6.0|\n",
            "|    Rajasthan Royals|               5.0|\n",
            "+--------------------+------------------+\n",
            "\n"
          ]
        }
      ]
    },
    {
      "cell_type": "code",
      "source": [
        "teams_index = {0: 'Mumbai Indians', 1: 'Kings XI Punjab', 2: 'Chennai Super Kings',\n",
        "               3: 'Royal Challengers Bangalore', 4: 'Kolkata Knight Riders',\n",
        "               5: 'Rajasthan Royals', 6: 'Delhi Daredevils', 7: 'Sunrisers Hyderabad'}"
      ],
      "metadata": {
        "id": "sQQBBabXb4Xk"
      },
      "execution_count": 142,
      "outputs": []
    },
    {
      "cell_type": "code",
      "source": [
        "# in the same way let us do for bowling_team also\n",
        "indexer = StringIndexer(inputCol='bowling_team',outputCol='bowling_team_index')\n",
        "data_frame = indexer.fit(data_frame).transform(data_frame)\n",
        "encoder = OneHotEncoder(inputCol='bowling_team_index',outputCol='bowling_team_vector')\n",
        "data_frame = encoder.fit(data_frame).transform(data_frame)\n",
        "data_frame.show()"
      ],
      "metadata": {
        "colab": {
          "base_uri": "https://localhost:8080/"
        },
        "id": "qGRUHNixsQ99",
        "outputId": "95baac29-a133-455a-b6ce-fe052a7b77f5"
      },
      "execution_count": 106,
      "outputs": [
        {
          "output_type": "stream",
          "name": "stdout",
          "text": [
            "+--------------------+--------------------+----+-------+-----+-----------+--------------+-----+------------------+-------------------+------------------+-------------------+\n",
            "|        batting_team|        bowling_team|runs|wickets|overs|runs_last_5|wickets_last_5|total|batting_team_index|batting_team_vector|bowling_team_index|bowling_team_vector|\n",
            "+--------------------+--------------------+----+-------+-----+-----------+--------------+-----+------------------+-------------------+------------------+-------------------+\n",
            "|Kolkata Knight Ri...|Royal Challengers...|   1|      0|  0.1|          1|             0|  222|               4.0|      (7,[4],[1.0])|               2.0|      (7,[2],[1.0])|\n",
            "|Kolkata Knight Ri...|Royal Challengers...|   1|      0|  0.2|          1|             0|  222|               4.0|      (7,[4],[1.0])|               2.0|      (7,[2],[1.0])|\n",
            "|Kolkata Knight Ri...|Royal Challengers...|   2|      0|  0.2|          2|             0|  222|               4.0|      (7,[4],[1.0])|               2.0|      (7,[2],[1.0])|\n",
            "|Kolkata Knight Ri...|Royal Challengers...|   2|      0|  0.3|          2|             0|  222|               4.0|      (7,[4],[1.0])|               2.0|      (7,[2],[1.0])|\n",
            "|Kolkata Knight Ri...|Royal Challengers...|   2|      0|  0.4|          2|             0|  222|               4.0|      (7,[4],[1.0])|               2.0|      (7,[2],[1.0])|\n",
            "|Kolkata Knight Ri...|Royal Challengers...|   2|      0|  0.5|          2|             0|  222|               4.0|      (7,[4],[1.0])|               2.0|      (7,[2],[1.0])|\n",
            "|Kolkata Knight Ri...|Royal Challengers...|   3|      0|  0.6|          3|             0|  222|               4.0|      (7,[4],[1.0])|               2.0|      (7,[2],[1.0])|\n",
            "|Kolkata Knight Ri...|Royal Challengers...|   3|      0|  1.1|          3|             0|  222|               4.0|      (7,[4],[1.0])|               2.0|      (7,[2],[1.0])|\n",
            "|Kolkata Knight Ri...|Royal Challengers...|   7|      0|  1.2|          7|             0|  222|               4.0|      (7,[4],[1.0])|               2.0|      (7,[2],[1.0])|\n",
            "|Kolkata Knight Ri...|Royal Challengers...|  11|      0|  1.3|         11|             0|  222|               4.0|      (7,[4],[1.0])|               2.0|      (7,[2],[1.0])|\n",
            "|Kolkata Knight Ri...|Royal Challengers...|  17|      0|  1.4|         17|             0|  222|               4.0|      (7,[4],[1.0])|               2.0|      (7,[2],[1.0])|\n",
            "|Kolkata Knight Ri...|Royal Challengers...|  21|      0|  1.5|         21|             0|  222|               4.0|      (7,[4],[1.0])|               2.0|      (7,[2],[1.0])|\n",
            "|Kolkata Knight Ri...|Royal Challengers...|  21|      0|  1.6|         21|             0|  222|               4.0|      (7,[4],[1.0])|               2.0|      (7,[2],[1.0])|\n",
            "|Kolkata Knight Ri...|Royal Challengers...|  21|      0|  2.1|         21|             0|  222|               4.0|      (7,[4],[1.0])|               2.0|      (7,[2],[1.0])|\n",
            "|Kolkata Knight Ri...|Royal Challengers...|  21|      0|  2.2|         21|             0|  222|               4.0|      (7,[4],[1.0])|               2.0|      (7,[2],[1.0])|\n",
            "|Kolkata Knight Ri...|Royal Challengers...|  22|      0|  2.3|         22|             0|  222|               4.0|      (7,[4],[1.0])|               2.0|      (7,[2],[1.0])|\n",
            "|Kolkata Knight Ri...|Royal Challengers...|  26|      0|  2.4|         26|             0|  222|               4.0|      (7,[4],[1.0])|               2.0|      (7,[2],[1.0])|\n",
            "|Kolkata Knight Ri...|Royal Challengers...|  27|      0|  2.5|         27|             0|  222|               4.0|      (7,[4],[1.0])|               2.0|      (7,[2],[1.0])|\n",
            "|Kolkata Knight Ri...|Royal Challengers...|  27|      0|  2.6|         27|             0|  222|               4.0|      (7,[4],[1.0])|               2.0|      (7,[2],[1.0])|\n",
            "|Kolkata Knight Ri...|Royal Challengers...|  32|      0|  3.0|         32|             0|  222|               4.0|      (7,[4],[1.0])|               2.0|      (7,[2],[1.0])|\n",
            "+--------------------+--------------------+----+-------+-----+-----------+--------------+-----+------------------+-------------------+------------------+-------------------+\n",
            "only showing top 20 rows\n",
            "\n"
          ]
        }
      ]
    },
    {
      "cell_type": "code",
      "source": [
        "# remove the first five overs of the every match.\n",
        "data_frame = data_frame.filter(data_frame['overs']>=5)"
      ],
      "metadata": {
        "id": "idkgayhisv3k"
      },
      "execution_count": 107,
      "outputs": []
    },
    {
      "cell_type": "code",
      "source": [
        "data_frame.count()"
      ],
      "metadata": {
        "colab": {
          "base_uri": "https://localhost:8080/"
        },
        "id": "xoBa0RWatiNl",
        "outputId": "1592f876-c5b5-4ff0-e022-87e071ad2d24"
      },
      "execution_count": 108,
      "outputs": [
        {
          "output_type": "execute_result",
          "data": {
            "text/plain": [
              "40108"
            ]
          },
          "metadata": {},
          "execution_count": 108
        }
      ]
    },
    {
      "cell_type": "code",
      "source": [
        "data_frame.select('batting_team_index').distinct().show()"
      ],
      "metadata": {
        "colab": {
          "base_uri": "https://localhost:8080/"
        },
        "id": "NGw_Qn_0uuUU",
        "outputId": "b25725b7-ea2a-4415-e9b3-a7a4208d90fc"
      },
      "execution_count": 109,
      "outputs": [
        {
          "output_type": "stream",
          "name": "stdout",
          "text": [
            "+------------------+\n",
            "|batting_team_index|\n",
            "+------------------+\n",
            "|               0.0|\n",
            "|               7.0|\n",
            "|               1.0|\n",
            "|               4.0|\n",
            "|               3.0|\n",
            "|               2.0|\n",
            "|               6.0|\n",
            "|               5.0|\n",
            "+------------------+\n",
            "\n"
          ]
        }
      ]
    },
    {
      "cell_type": "code",
      "source": [
        "# now let us use the vector assembler \\\n",
        "features = ['runs','wickets','overs','runs_last_5','wickets_last_5','batting_team_index','bowling_team_index']\n",
        "from pyspark.ml.feature import VectorAssembler\n",
        "assembler = VectorAssembler(inputCols = features,outputCol='features')\n",
        "data_frame = assembler.transform(data_frame)\n",
        "data_frame.show()"
      ],
      "metadata": {
        "colab": {
          "base_uri": "https://localhost:8080/"
        },
        "id": "Rgqw8wDhwMEE",
        "outputId": "316bbab1-63de-4b0e-f420-68a465608ae2"
      },
      "execution_count": 110,
      "outputs": [
        {
          "output_type": "stream",
          "name": "stdout",
          "text": [
            "+--------------------+--------------------+----+-------+-----+-----------+--------------+-----+------------------+-------------------+------------------+-------------------+--------------------+\n",
            "|        batting_team|        bowling_team|runs|wickets|overs|runs_last_5|wickets_last_5|total|batting_team_index|batting_team_vector|bowling_team_index|bowling_team_vector|            features|\n",
            "+--------------------+--------------------+----+-------+-----+-----------+--------------+-----+------------------+-------------------+------------------+-------------------+--------------------+\n",
            "|Kolkata Knight Ri...|Royal Challengers...|  61|      0|  5.1|         59|             0|  222|               4.0|      (7,[4],[1.0])|               2.0|      (7,[2],[1.0])|[61.0,0.0,5.1,59....|\n",
            "|Kolkata Knight Ri...|Royal Challengers...|  61|      1|  5.2|         59|             1|  222|               4.0|      (7,[4],[1.0])|               2.0|      (7,[2],[1.0])|[61.0,1.0,5.2,59....|\n",
            "|Kolkata Knight Ri...|Royal Challengers...|  61|      1|  5.3|         59|             1|  222|               4.0|      (7,[4],[1.0])|               2.0|      (7,[2],[1.0])|[61.0,1.0,5.3,59....|\n",
            "|Kolkata Knight Ri...|Royal Challengers...|  61|      1|  5.4|         59|             1|  222|               4.0|      (7,[4],[1.0])|               2.0|      (7,[2],[1.0])|[61.0,1.0,5.4,59....|\n",
            "|Kolkata Knight Ri...|Royal Challengers...|  61|      1|  5.5|         58|             1|  222|               4.0|      (7,[4],[1.0])|               2.0|      (7,[2],[1.0])|[61.0,1.0,5.5,58....|\n",
            "|Kolkata Knight Ri...|Royal Challengers...|  61|      1|  5.6|         58|             1|  222|               4.0|      (7,[4],[1.0])|               2.0|      (7,[2],[1.0])|[61.0,1.0,5.6,58....|\n",
            "|Kolkata Knight Ri...|Royal Challengers...|  62|      1|  6.1|         55|             1|  222|               4.0|      (7,[4],[1.0])|               2.0|      (7,[2],[1.0])|[62.0,1.0,6.1,55....|\n",
            "|Kolkata Knight Ri...|Royal Challengers...|  63|      1|  6.2|         52|             1|  222|               4.0|      (7,[4],[1.0])|               2.0|      (7,[2],[1.0])|[63.0,1.0,6.2,52....|\n",
            "|Kolkata Knight Ri...|Royal Challengers...|  64|      1|  6.3|         47|             1|  222|               4.0|      (7,[4],[1.0])|               2.0|      (7,[2],[1.0])|[64.0,1.0,6.3,47....|\n",
            "|Kolkata Knight Ri...|Royal Challengers...|  66|      1|  6.4|         45|             1|  222|               4.0|      (7,[4],[1.0])|               2.0|      (7,[2],[1.0])|[66.0,1.0,6.4,45....|\n",
            "|Kolkata Knight Ri...|Royal Challengers...|  67|      1|  6.5|         46|             1|  222|               4.0|      (7,[4],[1.0])|               2.0|      (7,[2],[1.0])|[67.0,1.0,6.5,46....|\n",
            "|Kolkata Knight Ri...|Royal Challengers...|  68|      1|  6.6|         47|             1|  222|               4.0|      (7,[4],[1.0])|               2.0|      (7,[2],[1.0])|[68.0,1.0,6.6,47....|\n",
            "|Kolkata Knight Ri...|Royal Challengers...|  68|      1|  7.1|         47|             1|  222|               4.0|      (7,[4],[1.0])|               2.0|      (7,[2],[1.0])|[68.0,1.0,7.1,47....|\n",
            "|Kolkata Knight Ri...|Royal Challengers...|  69|      1|  7.2|         47|             1|  222|               4.0|      (7,[4],[1.0])|               2.0|      (7,[2],[1.0])|[69.0,1.0,7.2,47....|\n",
            "|Kolkata Knight Ri...|Royal Challengers...|  70|      1|  7.3|         44|             1|  222|               4.0|      (7,[4],[1.0])|               2.0|      (7,[2],[1.0])|[70.0,1.0,7.3,44....|\n",
            "|Kolkata Knight Ri...|Royal Challengers...|  71|      1|  7.4|         44|             1|  222|               4.0|      (7,[4],[1.0])|               2.0|      (7,[2],[1.0])|[71.0,1.0,7.4,44....|\n",
            "|Kolkata Knight Ri...|Royal Challengers...|  72|      1|  7.5|         45|             1|  222|               4.0|      (7,[4],[1.0])|               2.0|      (7,[2],[1.0])|[72.0,1.0,7.5,45....|\n",
            "|Kolkata Knight Ri...|Royal Challengers...|  73|      1|  7.6|         41|             1|  222|               4.0|      (7,[4],[1.0])|               2.0|      (7,[2],[1.0])|[73.0,1.0,7.6,41....|\n",
            "|Kolkata Knight Ri...|Royal Challengers...|  73|      1|  8.1|         35|             1|  222|               4.0|      (7,[4],[1.0])|               2.0|      (7,[2],[1.0])|[73.0,1.0,8.1,35....|\n",
            "|Kolkata Knight Ri...|Royal Challengers...|  73|      1|  8.2|         34|             1|  222|               4.0|      (7,[4],[1.0])|               2.0|      (7,[2],[1.0])|[73.0,1.0,8.2,34....|\n",
            "+--------------------+--------------------+----+-------+-----+-----------+--------------+-----+------------------+-------------------+------------------+-------------------+--------------------+\n",
            "only showing top 20 rows\n",
            "\n"
          ]
        }
      ]
    },
    {
      "cell_type": "markdown",
      "source": [
        "# Applying Principal Component Analysis"
      ],
      "metadata": {
        "id": "cPF4mVeg2L7A"
      }
    },
    {
      "cell_type": "code",
      "source": [
        "# now let us apply PCA to check the top factors\n",
        "from pyspark.ml.feature import PCA\n",
        "pca = PCA(k=7,inputCol='features',outputCol='pca_features')\n",
        "model = pca.fit(data_frame)\n",
        "data_frame = model.transform(data_frame)"
      ],
      "metadata": {
        "id": "cyS0anUg2G1B"
      },
      "execution_count": 111,
      "outputs": []
    },
    {
      "cell_type": "code",
      "source": [
        "loadings = model.pc.toArray()\n",
        "for i, pc in enumerate(loadings):\n",
        "    print(f\"Principal Component {i+1} Loadings:\")\n",
        "    for j, loading in enumerate(pc):\n",
        "        print(f\"  {features[j]}: {loading}\")"
      ],
      "metadata": {
        "colab": {
          "base_uri": "https://localhost:8080/"
        },
        "id": "kCiKXSal5awY",
        "outputId": "17f023e9-140d-438a-b088-f0ea5805c10f"
      },
      "execution_count": 112,
      "outputs": [
        {
          "output_type": "stream",
          "name": "stdout",
          "text": [
            "Principal Component 1 Loadings:\n",
            "  runs: -0.9813757274475713\n",
            "  wickets: -0.15109898916664044\n",
            "  overs: 0.008684533844366116\n",
            "  runs_last_5: -0.011858569275273416\n",
            "  wickets_last_5: -0.10602316328268503\n",
            "  batting_team_index: 0.04285700481354677\n",
            "  bowling_team_index: -0.02787644601025793\n",
            "Principal Component 2 Loadings:\n",
            "  runs: -0.015696352544848857\n",
            "  wickets: -0.11167138682359938\n",
            "  overs: -0.056622554885935795\n",
            "  runs_last_5: 0.06253655113633953\n",
            "  wickets_last_5: 0.6425326516467382\n",
            "  batting_team_index: 0.49712975132933773\n",
            "  bowling_team_index: -0.5658444961673523\n",
            "Principal Component 3 Loadings:\n",
            "  runs: -0.09023437527044673\n",
            "  wickets: -0.14963097629481462\n",
            "  overs: -0.0713707428157487\n",
            "  runs_last_5: 0.0915057883690677\n",
            "  wickets_last_5: 0.7072253094560303\n",
            "  batting_team_index: -0.5834131936468129\n",
            "  bowling_team_index: 0.33979794490423926\n",
            "Principal Component 4 Loadings:\n",
            "  runs: -0.1688364642812037\n",
            "  wickets: 0.969309486445601\n",
            "  overs: -0.0018712694257607416\n",
            "  runs_last_5: 0.013587165214664609\n",
            "  wickets_last_5: 0.1767253344694023\n",
            "  batting_team_index: 0.006705508450575554\n",
            "  bowling_team_index: 0.021643646200411353\n",
            "Principal Component 5 Loadings:\n",
            "  runs: -0.0025700002240448714\n",
            "  wickets: -0.0498969033247784\n",
            "  overs: -0.0182355579650153\n",
            "  runs_last_5: 0.005218734798143581\n",
            "  wickets_last_5: 0.15442497773045566\n",
            "  batting_team_index: 0.6404870304541551\n",
            "  bowling_team_index: 0.7503820449898992\n",
            "Principal Component 6 Loadings:\n",
            "  runs: 0.0008400469905919001\n",
            "  wickets: -0.01565981203062329\n",
            "  overs: 0.9822239356209653\n",
            "  runs_last_5: -0.15233149556969172\n",
            "  wickets_last_5: 0.10825278319186303\n",
            "  batting_team_index: -0.005342892922438981\n",
            "  bowling_team_index: 0.006173231359404613\n",
            "Principal Component 7 Loadings:\n",
            "  runs: 3.6905458175613396e-05\n",
            "  wickets: 0.0036546659356519904\n",
            "  overs: 0.16286431558117953\n",
            "  runs_last_5: 0.9819157367145656\n",
            "  wickets_last_5: -0.09458149618719634\n",
            "  batting_team_index: 0.018899376500949347\n",
            "  bowling_team_index: 0.0007049144052841601\n"
          ]
        }
      ]
    },
    {
      "cell_type": "markdown",
      "source": [
        "# Model Training and Testing"
      ],
      "metadata": {
        "id": "X2gioZ3L68u7"
      }
    },
    {
      "cell_type": "code",
      "source": [
        "# Here we will be using different Regression algorithms to train our model.\n",
        "from pyspark.ml.tuning import CrossValidator, ParamGridBuilder\n",
        "from pyspark.ml.regression import LinearRegression, DecisionTreeRegressor, RandomForestRegressor, GBTRegressor\n",
        "from pyspark.ml.evaluation import RegressionEvaluator"
      ],
      "metadata": {
        "id": "y5f99CC56y7b"
      },
      "execution_count": 113,
      "outputs": []
    },
    {
      "cell_type": "code",
      "source": [
        "data_frame.printSchema()"
      ],
      "metadata": {
        "colab": {
          "base_uri": "https://localhost:8080/"
        },
        "id": "ih-Py9iTST_m",
        "outputId": "b81cf500-e8d4-4be7-f13a-29ae122123a7"
      },
      "execution_count": 114,
      "outputs": [
        {
          "output_type": "stream",
          "name": "stdout",
          "text": [
            "root\n",
            " |-- batting_team: string (nullable = true)\n",
            " |-- bowling_team: string (nullable = true)\n",
            " |-- runs: integer (nullable = true)\n",
            " |-- wickets: integer (nullable = true)\n",
            " |-- overs: double (nullable = true)\n",
            " |-- runs_last_5: integer (nullable = true)\n",
            " |-- wickets_last_5: integer (nullable = true)\n",
            " |-- total: integer (nullable = true)\n",
            " |-- batting_team_index: double (nullable = false)\n",
            " |-- batting_team_vector: vector (nullable = true)\n",
            " |-- bowling_team_index: double (nullable = false)\n",
            " |-- bowling_team_vector: vector (nullable = true)\n",
            " |-- features: vector (nullable = true)\n",
            " |-- pca_features: vector (nullable = true)\n",
            "\n"
          ]
        }
      ]
    },
    {
      "cell_type": "code",
      "source": [
        "lr = LinearRegression(featuresCol='features',labelCol='total')\n",
        "paramGrid = (ParamGridBuilder()\n",
        "             .addGrid(lr.regParam, [0.01, 0.1, 1.0])\n",
        "             .addGrid(lr.elasticNetParam, [0.0, 0.5, 1.0])\n",
        "             .build())\n",
        "crossVal_lr = CrossValidator(estimator=lr,estimatorParamMaps=paramGrid,evaluator=RegressionEvaluator(labelCol='total'),numFolds=3)\n",
        "cv_lr = crossVal_lr.fit(data_frame)"
      ],
      "metadata": {
        "id": "NlW_VNmk7fT7"
      },
      "execution_count": 116,
      "outputs": []
    },
    {
      "cell_type": "code",
      "source": [
        "predictions_lr = cv_lr.transform(data_frame)\n",
        "predictions_lr.select('total','prediction').show(5)"
      ],
      "metadata": {
        "id": "01Y6FO2-GDz2",
        "colab": {
          "base_uri": "https://localhost:8080/"
        },
        "outputId": "6dd694e6-4387-421f-a7d7-dcfc9a6369df"
      },
      "execution_count": 118,
      "outputs": [
        {
          "output_type": "stream",
          "name": "stdout",
          "text": [
            "+-----+------------------+\n",
            "|total|        prediction|\n",
            "+-----+------------------+\n",
            "|  222|191.05811112075722|\n",
            "|  222|184.25323988562516|\n",
            "|  222|183.62012722646577|\n",
            "|  222|182.98701456730635|\n",
            "|  222|182.35065768021775|\n",
            "+-----+------------------+\n",
            "only showing top 5 rows\n",
            "\n"
          ]
        }
      ]
    },
    {
      "cell_type": "code",
      "source": [
        "# let us look at the rmse score of it\n",
        "evaluator_lr = RegressionEvaluator(labelCol='total')\n",
        "rmse_lr = evaluator_lr.evaluate(predictions_lr)\n",
        "print(f\"RMSE: {rmse_lr}\")"
      ],
      "metadata": {
        "colab": {
          "base_uri": "https://localhost:8080/"
        },
        "id": "eLCKtK51Vsk5",
        "outputId": "6a9f4ded-fb0f-4c3f-93e9-dcb24ca01ee6"
      },
      "execution_count": 119,
      "outputs": [
        {
          "output_type": "stream",
          "name": "stdout",
          "text": [
            "RMSE: 17.60254449572745\n"
          ]
        }
      ]
    },
    {
      "cell_type": "code",
      "source": [
        "# this is an additional step to add the lr_predictions into the data_frame\n",
        "data_frame = data_frame.withColumnRenamed('r_prediction','lr_prediction')\n",
        "data_frame.show()"
      ],
      "metadata": {
        "colab": {
          "base_uri": "https://localhost:8080/"
        },
        "id": "ceJAOwl2ptyz",
        "outputId": "5298d00f-eb73-4c07-d971-c14562de841b"
      },
      "execution_count": 178,
      "outputs": [
        {
          "output_type": "stream",
          "name": "stdout",
          "text": [
            "+--------------------+--------------------+----+-------+-----+-----------+--------------+-----+------------------+-------------------+------------------+-------------------+--------------------+--------------------+------------------+\n",
            "|        batting_team|        bowling_team|runs|wickets|overs|runs_last_5|wickets_last_5|total|batting_team_index|batting_team_vector|bowling_team_index|bowling_team_vector|            features|        pca_features|     lr_prediction|\n",
            "+--------------------+--------------------+----+-------+-----+-----------+--------------+-----+------------------+-------------------+------------------+-------------------+--------------------+--------------------+------------------+\n",
            "|Kolkata Knight Ri...|Royal Challengers...|  61|      0|  5.1|         59|             0|  222|               4.0|      (7,[4],[1.0])|               2.0|      (7,[2],[1.0])|[61.0,0.0,5.1,59....|[-70.282032081893...|191.05811112075722|\n",
            "|Kolkata Knight Ri...|Royal Challengers...|  61|      1|  5.2|         59|             1|  222|               4.0|      (7,[4],[1.0])|               2.0|      (7,[2],[1.0])|[61.0,1.0,5.2,59....|[-70.309321872189...|184.25323988562516|\n",
            "|Kolkata Knight Ri...|Royal Challengers...|  61|      1|  5.3|         59|             1|  222|               4.0|      (7,[4],[1.0])|               2.0|      (7,[2],[1.0])|[61.0,1.0,5.3,59....|[-70.318345309716...|183.62012722646577|\n",
            "|Kolkata Knight Ri...|Royal Challengers...|  61|      1|  5.4|         59|             1|  222|               4.0|      (7,[4],[1.0])|               2.0|      (7,[2],[1.0])|[61.0,1.0,5.4,59....|[-70.327368747243...|182.98701456730635|\n",
            "|Kolkata Knight Ri...|Royal Challengers...|  61|      1|  5.5|         58|             1|  222|               4.0|      (7,[4],[1.0])|               2.0|      (7,[2],[1.0])|[61.0,1.0,5.5,58....|[-70.167555720489...|182.35065768021775|\n",
            "|Kolkata Knight Ri...|Royal Challengers...|  61|      1|  5.6|         58|             1|  222|               4.0|      (7,[4],[1.0])|               2.0|      (7,[2],[1.0])|[61.0,1.0,5.6,58....|[-70.176579158016...|181.71754502105833|\n",
            "|Kolkata Knight Ri...|Royal Challengers...|  62|      1|  6.1|         55|             1|  222|               4.0|      (7,[4],[1.0])|               2.0|      (7,[2],[1.0])|[62.0,1.0,6.1,55....|[-70.696562680255...| 179.5002761586327|\n",
            "|Kolkata Knight Ri...|Royal Challengers...|  63|      1|  6.2|         52|             1|  222|               4.0|      (7,[4],[1.0])|               2.0|      (7,[2],[1.0])|[63.0,1.0,6.2,52....|[-71.180452452386...|179.81545793284468|\n",
            "|Kolkata Knight Ri...|Royal Challengers...|  64|      1|  6.3|         47|             1|  222|               4.0|      (7,[4],[1.0])|               2.0|      (7,[2],[1.0])|[64.0,1.0,6.3,47....|[-71.326669295955...|180.12415125119827|\n",
            "|Kolkata Knight Ri...|Royal Challengers...|  66|      1|  6.4|         45|             1|  222|               4.0|      (7,[4],[1.0])|               2.0|      (7,[2],[1.0])|[66.0,1.0,6.4,45....|[-72.960771259814...|181.40060437049843|\n",
            "|Kolkata Knight Ri...|Royal Challengers...|  67|      1|  6.5|         46|             1|  222|               4.0|      (7,[4],[1.0])|               2.0|      (7,[2],[1.0])|[67.0,1.0,6.5,46....|[-74.120006889070...| 181.7287630564272|\n",
            "|Kolkata Knight Ri...|Royal Challengers...|  68|      1|  6.6|         47|             1|  222|               4.0|      (7,[4],[1.0])|               2.0|      (7,[2],[1.0])|[68.0,1.0,6.6,47....|[-75.279242518326...|182.05692174235597|\n",
            "|Kolkata Knight Ri...|Royal Challengers...|  68|      1|  7.1|         47|             1|  222|               4.0|      (7,[4],[1.0])|               2.0|      (7,[2],[1.0])|[68.0,1.0,7.1,47....|[-75.324359705961...| 178.8913584465589|\n",
            "|Kolkata Knight Ri...|Royal Challengers...|  69|      1|  7.2|         47|             1|  222|               4.0|      (7,[4],[1.0])|               2.0|      (7,[2],[1.0])|[69.0,1.0,7.2,47....|[-76.314758870936...|179.21627290455848|\n",
            "|Kolkata Knight Ri...|Royal Challengers...|  70|      1|  7.3|         44|             1|  222|               4.0|      (7,[4],[1.0])|               2.0|      (7,[2],[1.0])|[70.0,1.0,7.3,44....|[-76.798648643067...|179.53145467877047|\n",
            "|Kolkata Knight Ri...|Royal Challengers...|  71|      1|  7.4|         44|             1|  222|               4.0|      (7,[4],[1.0])|               2.0|      (7,[2],[1.0])|[71.0,1.0,7.4,44....|[-77.789047808042...|179.85636913677004|\n",
            "|Kolkata Knight Ri...|Royal Challengers...|  72|      1|  7.5|         45|             1|  222|               4.0|      (7,[4],[1.0])|               2.0|      (7,[2],[1.0])|[72.0,1.0,7.5,45....|[-78.948283437297...| 180.1845278226988|\n",
            "|Kolkata Knight Ri...|Royal Challengers...|  73|      1|  7.6|         41|             1|  222|               4.0|      (7,[4],[1.0])|               2.0|      (7,[2],[1.0])|[73.0,1.0,7.6,41....|[-79.263336745147...| 180.4964653689816|\n",
            "|Kolkata Knight Ri...|Royal Challengers...|  73|      1|  8.1|         35|             1|  222|               4.0|      (7,[4],[1.0])|               2.0|      (7,[2],[1.0])|[73.0,1.0,8.1,35....|[-78.295435147095...| 177.3114367056094|\n",
            "|Kolkata Knight Ri...|Royal Challengers...|  73|      1|  8.2|         34|             1|  222|               4.0|      (7,[4],[1.0])|               2.0|      (7,[2],[1.0])|[73.0,1.0,8.2,34....|[-78.135622120341...| 176.6750798185208|\n",
            "+--------------------+--------------------+----+-------+-----+-----------+--------------+-----+------------------+-------------------+------------------+-------------------+--------------------+--------------------+------------------+\n",
            "only showing top 20 rows\n",
            "\n"
          ]
        }
      ]
    },
    {
      "cell_type": "code",
      "source": [
        "# Now let us look for the Decision tree Regressor\n",
        "dtr = DecisionTreeRegressor(featuresCol='features',labelCol='total')\n",
        "crossVal_dtr = CrossValidator(estimator=dtr,estimatorParamMaps=paramGrid,evaluator=RegressionEvaluator(labelCol='total'),numFolds=3)\n",
        "cv_dtr = crossVal_dtr.fit(data_frame)\n",
        "predictions_dtr = cv_dtr.transform(data_frame)\n",
        "predictions_dtr.select('total','prediction').show()"
      ],
      "metadata": {
        "colab": {
          "base_uri": "https://localhost:8080/"
        },
        "id": "MmzEe7bIWBzH",
        "outputId": "e2c8037a-647c-41ab-ab4a-cc6bfbf9aeec"
      },
      "execution_count": 121,
      "outputs": [
        {
          "output_type": "stream",
          "name": "stdout",
          "text": [
            "+-----+------------------+\n",
            "|total|        prediction|\n",
            "+-----+------------------+\n",
            "|  222|  188.876130198915|\n",
            "|  222|  188.876130198915|\n",
            "|  222|  188.876130198915|\n",
            "|  222|  188.876130198915|\n",
            "|  222|  188.876130198915|\n",
            "|  222|  188.876130198915|\n",
            "|  222|  188.876130198915|\n",
            "|  222|  188.876130198915|\n",
            "|  222|177.31890874882407|\n",
            "|  222|177.31890874882407|\n",
            "|  222|177.31890874882407|\n",
            "|  222|177.31890874882407|\n",
            "|  222|177.31890874882407|\n",
            "|  222|177.31890874882407|\n",
            "|  222|177.31890874882407|\n",
            "|  222|177.31890874882407|\n",
            "|  222|177.31890874882407|\n",
            "|  222|177.31890874882407|\n",
            "|  222|185.53346855983773|\n",
            "|  222|185.53346855983773|\n",
            "+-----+------------------+\n",
            "only showing top 20 rows\n",
            "\n"
          ]
        }
      ]
    },
    {
      "cell_type": "code",
      "source": [
        "evaluator_dtr = RegressionEvaluator(labelCol='total')\n",
        "rmse_dtr = evaluator_dtr.evaluate(predictions_dtr)\n",
        "print(f\"RMSE: {rmse_dtr}\")"
      ],
      "metadata": {
        "colab": {
          "base_uri": "https://localhost:8080/"
        },
        "id": "ngsRU86tWlr4",
        "outputId": "24eaf283-c6de-488b-c0ee-e5305875183b"
      },
      "execution_count": 123,
      "outputs": [
        {
          "output_type": "stream",
          "name": "stdout",
          "text": [
            "RMSE: 19.911042741291645\n"
          ]
        }
      ]
    },
    {
      "cell_type": "code",
      "source": [
        "# this is an additional step to add the dtr_predictions into the data_frame\n",
        "data_frame = data_frame.join(predictions_dtr.select('features', predictions_dtr['prediction'].alias('dtr_prediction')), on='features', how='inner')\n",
        "data_frame.show()"
      ],
      "metadata": {
        "colab": {
          "base_uri": "https://localhost:8080/"
        },
        "id": "fxBRNvabtcf_",
        "outputId": "c178ec04-8528-4ead-fcdc-c322a2700b40"
      },
      "execution_count": 180,
      "outputs": [
        {
          "output_type": "stream",
          "name": "stdout",
          "text": [
            "+--------------------+--------------------+--------------------+----+-------+-----+-----------+--------------+-----+------------------+-------------------+------------------+-------------------+--------------------+------------------+------------------+\n",
            "|            features|        batting_team|        bowling_team|runs|wickets|overs|runs_last_5|wickets_last_5|total|batting_team_index|batting_team_vector|bowling_team_index|bowling_team_vector|        pca_features|     lr_prediction|    dtr_prediction|\n",
            "+--------------------+--------------------+--------------------+----+-------+-----+-----------+--------------+-----+------------------+-------------------+------------------+-------------------+--------------------+------------------+------------------+\n",
            "|[61.0,0.0,5.1,59....|Kolkata Knight Ri...|Royal Challengers...|  61|      0|  5.1|         59|             0|  222|               4.0|      (7,[4],[1.0])|               2.0|      (7,[2],[1.0])|[-70.282032081893...|191.05811112075722|  188.876130198915|\n",
            "|[61.0,1.0,5.2,59....|Kolkata Knight Ri...|Royal Challengers...|  61|      1|  5.2|         59|             1|  222|               4.0|      (7,[4],[1.0])|               2.0|      (7,[2],[1.0])|[-70.309321872189...|184.25323988562516|  188.876130198915|\n",
            "|[61.0,1.0,5.3,59....|Kolkata Knight Ri...|Royal Challengers...|  61|      1|  5.3|         59|             1|  222|               4.0|      (7,[4],[1.0])|               2.0|      (7,[2],[1.0])|[-70.318345309716...|183.62012722646577|  188.876130198915|\n",
            "|[61.0,1.0,5.4,59....|Kolkata Knight Ri...|Royal Challengers...|  61|      1|  5.4|         59|             1|  222|               4.0|      (7,[4],[1.0])|               2.0|      (7,[2],[1.0])|[-70.327368747243...|182.98701456730635|  188.876130198915|\n",
            "|[61.0,1.0,5.5,58....|Kolkata Knight Ri...|Royal Challengers...|  61|      1|  5.5|         58|             1|  222|               4.0|      (7,[4],[1.0])|               2.0|      (7,[2],[1.0])|[-70.167555720489...|182.35065768021775|  188.876130198915|\n",
            "|[61.0,1.0,5.6,58....|Kolkata Knight Ri...|Royal Challengers...|  61|      1|  5.6|         58|             1|  222|               4.0|      (7,[4],[1.0])|               2.0|      (7,[2],[1.0])|[-70.176579158016...|181.71754502105833|  188.876130198915|\n",
            "|[62.0,1.0,6.1,55....|Kolkata Knight Ri...|Royal Challengers...|  62|      1|  6.1|         55|             1|  222|               4.0|      (7,[4],[1.0])|               2.0|      (7,[2],[1.0])|[-70.696562680255...| 179.5002761586327|  188.876130198915|\n",
            "|[63.0,1.0,6.2,52....|Kolkata Knight Ri...|Royal Challengers...|  63|      1|  6.2|         52|             1|  222|               4.0|      (7,[4],[1.0])|               2.0|      (7,[2],[1.0])|[-71.180452452386...|179.81545793284468|  188.876130198915|\n",
            "|[64.0,1.0,6.3,47....|Kolkata Knight Ri...|Royal Challengers...|  64|      1|  6.3|         47|             1|  222|               4.0|      (7,[4],[1.0])|               2.0|      (7,[2],[1.0])|[-71.326669295955...|180.12415125119827|177.31890874882407|\n",
            "|[66.0,1.0,6.4,45....|Kolkata Knight Ri...|Royal Challengers...|  66|      1|  6.4|         45|             1|  222|               4.0|      (7,[4],[1.0])|               2.0|      (7,[2],[1.0])|[-72.960771259814...|181.40060437049843|177.31890874882407|\n",
            "|[67.0,1.0,6.5,46....|Kolkata Knight Ri...|Royal Challengers...|  67|      1|  6.5|         46|             1|  222|               4.0|      (7,[4],[1.0])|               2.0|      (7,[2],[1.0])|[-74.120006889070...| 181.7287630564272|177.31890874882407|\n",
            "|[68.0,1.0,6.6,47....|Kolkata Knight Ri...|Royal Challengers...|  68|      1|  6.6|         47|             1|  222|               4.0|      (7,[4],[1.0])|               2.0|      (7,[2],[1.0])|[-75.279242518326...|182.05692174235597|177.31890874882407|\n",
            "|[68.0,1.0,7.1,47....|Kolkata Knight Ri...|Royal Challengers...|  68|      1|  7.1|         47|             1|  222|               4.0|      (7,[4],[1.0])|               2.0|      (7,[2],[1.0])|[-75.324359705961...| 178.8913584465589|177.31890874882407|\n",
            "|[69.0,1.0,7.2,47....|Kolkata Knight Ri...|Royal Challengers...|  69|      1|  7.2|         47|             1|  222|               4.0|      (7,[4],[1.0])|               2.0|      (7,[2],[1.0])|[-76.314758870936...|179.21627290455848|177.31890874882407|\n",
            "|[70.0,1.0,7.3,44....|Kolkata Knight Ri...|Royal Challengers...|  70|      1|  7.3|         44|             1|  222|               4.0|      (7,[4],[1.0])|               2.0|      (7,[2],[1.0])|[-76.798648643067...|179.53145467877047|177.31890874882407|\n",
            "|[71.0,1.0,7.4,44....|Kolkata Knight Ri...|Royal Challengers...|  71|      1|  7.4|         44|             1|  222|               4.0|      (7,[4],[1.0])|               2.0|      (7,[2],[1.0])|[-77.789047808042...|179.85636913677004|177.31890874882407|\n",
            "|[72.0,1.0,7.5,45....|Kolkata Knight Ri...|Royal Challengers...|  72|      1|  7.5|         45|             1|  222|               4.0|      (7,[4],[1.0])|               2.0|      (7,[2],[1.0])|[-78.948283437297...| 180.1845278226988|177.31890874882407|\n",
            "|[73.0,1.0,7.6,41....|Kolkata Knight Ri...|Royal Challengers...|  73|      1|  7.6|         41|             1|  222|               4.0|      (7,[4],[1.0])|               2.0|      (7,[2],[1.0])|[-79.263336745147...| 180.4964653689816|177.31890874882407|\n",
            "|[73.0,1.0,8.1,35....|Kolkata Knight Ri...|Royal Challengers...|  73|      1|  8.1|         35|             1|  222|               4.0|      (7,[4],[1.0])|               2.0|      (7,[2],[1.0])|[-78.295435147095...| 177.3114367056094|185.53346855983773|\n",
            "|[73.0,1.0,8.2,34....|Kolkata Knight Ri...|Royal Challengers...|  73|      1|  8.2|         34|             1|  222|               4.0|      (7,[4],[1.0])|               2.0|      (7,[2],[1.0])|[-78.135622120341...| 176.6750798185208|185.53346855983773|\n",
            "+--------------------+--------------------+--------------------+----+-------+-----+-----------+--------------+-----+------------------+-------------------+------------------+-------------------+--------------------+------------------+------------------+\n",
            "only showing top 20 rows\n",
            "\n"
          ]
        }
      ]
    },
    {
      "cell_type": "code",
      "source": [
        "# Now let us do the same for RandomForest Regressor\n",
        "rfr = RandomForestRegressor(featuresCol='features',labelCol='total')\n",
        "crossVal_rfr = CrossValidator(estimator=rfr,estimatorParamMaps=paramGrid,evaluator=RegressionEvaluator(labelCol='total'),numFolds=3)\n",
        "cv_rfr = crossVal_rfr.fit(data_frame)\n",
        "predictions_rfr=cv_rfr.transform(data_frame)\n",
        "predictions_rfr.select('total','prediction').show()"
      ],
      "metadata": {
        "colab": {
          "base_uri": "https://localhost:8080/"
        },
        "id": "Szn_WaJ7XGiS",
        "outputId": "ac6c2f98-5d43-4ada-f106-2780fd2a7574"
      },
      "execution_count": 125,
      "outputs": [
        {
          "output_type": "stream",
          "name": "stdout",
          "text": [
            "+-----+------------------+\n",
            "|total|        prediction|\n",
            "+-----+------------------+\n",
            "|  222|189.75908509140447|\n",
            "|  222|188.20430008039858|\n",
            "|  222|188.20430008039858|\n",
            "|  222|188.20430008039858|\n",
            "|  222|188.20430008039858|\n",
            "|  222|188.20430008039858|\n",
            "|  222| 187.2673721014033|\n",
            "|  222| 187.2673721014033|\n",
            "|  222| 180.6133392590447|\n",
            "|  222| 180.6133392590447|\n",
            "|  222| 180.6133392590447|\n",
            "|  222| 180.6133392590447|\n",
            "|  222| 180.6133392590447|\n",
            "|  222| 180.6133392590447|\n",
            "|  222|179.43037324756196|\n",
            "|  222|179.43037324756196|\n",
            "|  222| 180.6133392590447|\n",
            "|  222|179.43037324756196|\n",
            "|  222|172.57232031645268|\n",
            "|  222|172.57232031645268|\n",
            "+-----+------------------+\n",
            "only showing top 20 rows\n",
            "\n"
          ]
        }
      ]
    },
    {
      "cell_type": "code",
      "source": [
        "evaluator_rfr = RegressionEvaluator(labelCol='total')\n",
        "rmse_rfr = evaluator_rfr.evaluate(predictions_rfr)\n",
        "print(f\"RMSE: {rmse_rfr}\")"
      ],
      "metadata": {
        "colab": {
          "base_uri": "https://localhost:8080/"
        },
        "id": "I3y99citXp6H",
        "outputId": "f925830f-c8a4-4d0a-c665-f91f0712bbe4"
      },
      "execution_count": 126,
      "outputs": [
        {
          "output_type": "stream",
          "name": "stdout",
          "text": [
            "RMSE: 19.069656522301866\n"
          ]
        }
      ]
    },
    {
      "cell_type": "code",
      "source": [
        "# this is an additional step to add the rfr_predictions into the data_frame\n",
        "data_frame = data_frame.join(predictions_rfr.select('features', predictions_rfr['prediction'].alias('rfr_prediction')), on='features', how='inner')\n",
        "data_frame.show()"
      ],
      "metadata": {
        "colab": {
          "base_uri": "https://localhost:8080/"
        },
        "id": "d0SkuIt4uHRJ",
        "outputId": "f0646a5e-0b33-4c1d-fe96-592ffdf96a29"
      },
      "execution_count": 182,
      "outputs": [
        {
          "output_type": "stream",
          "name": "stdout",
          "text": [
            "+--------------------+--------------------+--------------------+----+-------+-----+-----------+--------------+-----+------------------+-------------------+------------------+-------------------+--------------------+------------------+------------------+------------------+\n",
            "|            features|        batting_team|        bowling_team|runs|wickets|overs|runs_last_5|wickets_last_5|total|batting_team_index|batting_team_vector|bowling_team_index|bowling_team_vector|        pca_features|     lr_prediction|    dtr_prediction|    rfr_prediction|\n",
            "+--------------------+--------------------+--------------------+----+-------+-----+-----------+--------------+-----+------------------+-------------------+------------------+-------------------+--------------------+------------------+------------------+------------------+\n",
            "|[61.0,0.0,5.1,59....|Kolkata Knight Ri...|Royal Challengers...|  61|      0|  5.1|         59|             0|  222|               4.0|      (7,[4],[1.0])|               2.0|      (7,[2],[1.0])|[-70.282032081893...|191.05811112075722|  188.876130198915|189.75908509140447|\n",
            "|[61.0,1.0,5.2,59....|Kolkata Knight Ri...|Royal Challengers...|  61|      1|  5.2|         59|             1|  222|               4.0|      (7,[4],[1.0])|               2.0|      (7,[2],[1.0])|[-70.309321872189...|184.25323988562516|  188.876130198915|188.20430008039858|\n",
            "|[61.0,1.0,5.3,59....|Kolkata Knight Ri...|Royal Challengers...|  61|      1|  5.3|         59|             1|  222|               4.0|      (7,[4],[1.0])|               2.0|      (7,[2],[1.0])|[-70.318345309716...|183.62012722646577|  188.876130198915|188.20430008039858|\n",
            "|[61.0,1.0,5.4,59....|Kolkata Knight Ri...|Royal Challengers...|  61|      1|  5.4|         59|             1|  222|               4.0|      (7,[4],[1.0])|               2.0|      (7,[2],[1.0])|[-70.327368747243...|182.98701456730635|  188.876130198915|188.20430008039858|\n",
            "|[61.0,1.0,5.5,58....|Kolkata Knight Ri...|Royal Challengers...|  61|      1|  5.5|         58|             1|  222|               4.0|      (7,[4],[1.0])|               2.0|      (7,[2],[1.0])|[-70.167555720489...|182.35065768021775|  188.876130198915|188.20430008039858|\n",
            "|[61.0,1.0,5.6,58....|Kolkata Knight Ri...|Royal Challengers...|  61|      1|  5.6|         58|             1|  222|               4.0|      (7,[4],[1.0])|               2.0|      (7,[2],[1.0])|[-70.176579158016...|181.71754502105833|  188.876130198915|188.20430008039858|\n",
            "|[62.0,1.0,6.1,55....|Kolkata Knight Ri...|Royal Challengers...|  62|      1|  6.1|         55|             1|  222|               4.0|      (7,[4],[1.0])|               2.0|      (7,[2],[1.0])|[-70.696562680255...| 179.5002761586327|  188.876130198915| 187.2673721014033|\n",
            "|[63.0,1.0,6.2,52....|Kolkata Knight Ri...|Royal Challengers...|  63|      1|  6.2|         52|             1|  222|               4.0|      (7,[4],[1.0])|               2.0|      (7,[2],[1.0])|[-71.180452452386...|179.81545793284468|  188.876130198915| 187.2673721014033|\n",
            "|[64.0,1.0,6.3,47....|Kolkata Knight Ri...|Royal Challengers...|  64|      1|  6.3|         47|             1|  222|               4.0|      (7,[4],[1.0])|               2.0|      (7,[2],[1.0])|[-71.326669295955...|180.12415125119827|177.31890874882407| 180.6133392590447|\n",
            "|[66.0,1.0,6.4,45....|Kolkata Knight Ri...|Royal Challengers...|  66|      1|  6.4|         45|             1|  222|               4.0|      (7,[4],[1.0])|               2.0|      (7,[2],[1.0])|[-72.960771259814...|181.40060437049843|177.31890874882407| 180.6133392590447|\n",
            "|[67.0,1.0,6.5,46....|Kolkata Knight Ri...|Royal Challengers...|  67|      1|  6.5|         46|             1|  222|               4.0|      (7,[4],[1.0])|               2.0|      (7,[2],[1.0])|[-74.120006889070...| 181.7287630564272|177.31890874882407| 180.6133392590447|\n",
            "|[68.0,1.0,6.6,47....|Kolkata Knight Ri...|Royal Challengers...|  68|      1|  6.6|         47|             1|  222|               4.0|      (7,[4],[1.0])|               2.0|      (7,[2],[1.0])|[-75.279242518326...|182.05692174235597|177.31890874882407| 180.6133392590447|\n",
            "|[68.0,1.0,7.1,47....|Kolkata Knight Ri...|Royal Challengers...|  68|      1|  7.1|         47|             1|  222|               4.0|      (7,[4],[1.0])|               2.0|      (7,[2],[1.0])|[-75.324359705961...| 178.8913584465589|177.31890874882407| 180.6133392590447|\n",
            "|[69.0,1.0,7.2,47....|Kolkata Knight Ri...|Royal Challengers...|  69|      1|  7.2|         47|             1|  222|               4.0|      (7,[4],[1.0])|               2.0|      (7,[2],[1.0])|[-76.314758870936...|179.21627290455848|177.31890874882407| 180.6133392590447|\n",
            "|[70.0,1.0,7.3,44....|Kolkata Knight Ri...|Royal Challengers...|  70|      1|  7.3|         44|             1|  222|               4.0|      (7,[4],[1.0])|               2.0|      (7,[2],[1.0])|[-76.798648643067...|179.53145467877047|177.31890874882407|179.43037324756196|\n",
            "|[71.0,1.0,7.4,44....|Kolkata Knight Ri...|Royal Challengers...|  71|      1|  7.4|         44|             1|  222|               4.0|      (7,[4],[1.0])|               2.0|      (7,[2],[1.0])|[-77.789047808042...|179.85636913677004|177.31890874882407|179.43037324756196|\n",
            "|[72.0,1.0,7.5,45....|Kolkata Knight Ri...|Royal Challengers...|  72|      1|  7.5|         45|             1|  222|               4.0|      (7,[4],[1.0])|               2.0|      (7,[2],[1.0])|[-78.948283437297...| 180.1845278226988|177.31890874882407| 180.6133392590447|\n",
            "|[73.0,1.0,7.6,41....|Kolkata Knight Ri...|Royal Challengers...|  73|      1|  7.6|         41|             1|  222|               4.0|      (7,[4],[1.0])|               2.0|      (7,[2],[1.0])|[-79.263336745147...| 180.4964653689816|177.31890874882407|179.43037324756196|\n",
            "|[73.0,1.0,8.1,35....|Kolkata Knight Ri...|Royal Challengers...|  73|      1|  8.1|         35|             1|  222|               4.0|      (7,[4],[1.0])|               2.0|      (7,[2],[1.0])|[-78.295435147095...| 177.3114367056094|185.53346855983773|172.57232031645268|\n",
            "|[73.0,1.0,8.2,34....|Kolkata Knight Ri...|Royal Challengers...|  73|      1|  8.2|         34|             1|  222|               4.0|      (7,[4],[1.0])|               2.0|      (7,[2],[1.0])|[-78.135622120341...| 176.6750798185208|185.53346855983773|172.57232031645268|\n",
            "+--------------------+--------------------+--------------------+----+-------+-----+-----------+--------------+-----+------------------+-------------------+------------------+-------------------+--------------------+------------------+------------------+------------------+\n",
            "only showing top 20 rows\n",
            "\n"
          ]
        }
      ]
    },
    {
      "cell_type": "code",
      "source": [
        "# now let us do the same for GBT Regressor also\n",
        "gbt = GBTRegressor(featuresCol='features',labelCol='total')\n",
        "crossVal_gbt = CrossValidator(estimator=gbt,estimatorParamMaps=paramGrid,evaluator=RegressionEvaluator(labelCol='total'),numFolds=3)\n",
        "cv_gbt = crossVal_gbt.fit(data_frame)\n",
        "predictions_gbt = cv_gbt.transform(data_frame)\n",
        "predictions_gbt.select('total','prediction').show"
      ],
      "metadata": {
        "colab": {
          "base_uri": "https://localhost:8080/",
          "height": 186
        },
        "id": "nUO8XrJeYD23",
        "outputId": "fcdfd0b0-8826-4445-c737-8f536e0906c2"
      },
      "execution_count": 127,
      "outputs": [
        {
          "output_type": "execute_result",
          "data": {
            "text/plain": [
              "<bound method DataFrame.show of DataFrame[total: int, prediction: double]>"
            ],
            "text/html": [
              "<div style=\"max-width:800px; border: 1px solid var(--colab-border-color);\"><style>\n",
              "      pre.function-repr-contents {\n",
              "        overflow-x: auto;\n",
              "        padding: 8px 12px;\n",
              "        max-height: 500px;\n",
              "      }\n",
              "\n",
              "      pre.function-repr-contents.function-repr-contents-collapsed {\n",
              "        cursor: pointer;\n",
              "        max-height: 100px;\n",
              "      }\n",
              "    </style>\n",
              "    <pre style=\"white-space: initial; background:\n",
              "         var(--colab-secondary-surface-color); padding: 8px 12px;\n",
              "         border-bottom: 1px solid var(--colab-border-color);\"><b>pyspark.sql.dataframe.DataFrame.show</b><br/>def show(n: int=20, truncate: Union[bool, int]=True, vertical: bool=False) -&gt; None</pre><pre class=\"function-repr-contents function-repr-contents-collapsed\" style=\"\"><a class=\"filepath\" style=\"display:none\" href=\"#\">/usr/local/lib/python3.10/dist-packages/pyspark/sql/dataframe.py</a>Prints the first ``n`` rows to the console.\n",
              "\n",
              ".. versionadded:: 1.3.0\n",
              "\n",
              ".. versionchanged:: 3.4.0\n",
              "    Supports Spark Connect.\n",
              "\n",
              "Parameters\n",
              "----------\n",
              "n : int, optional\n",
              "    Number of rows to show.\n",
              "truncate : bool or int, optional\n",
              "    If set to ``True``, truncate strings longer than 20 chars by default.\n",
              "    If set to a number greater than one, truncates long strings to length ``truncate``\n",
              "    and align cells right.\n",
              "vertical : bool, optional\n",
              "    If set to ``True``, print output rows vertically (one line\n",
              "    per column value).\n",
              "\n",
              "Examples\n",
              "--------\n",
              "&gt;&gt;&gt; df = spark.createDataFrame([\n",
              "...     (14, &quot;Tom&quot;), (23, &quot;Alice&quot;), (16, &quot;Bob&quot;)], [&quot;age&quot;, &quot;name&quot;])\n",
              "\n",
              "Show only top 2 rows.\n",
              "\n",
              "&gt;&gt;&gt; df.show(2)\n",
              "+---+-----+\n",
              "|age| name|\n",
              "+---+-----+\n",
              "| 14|  Tom|\n",
              "| 23|Alice|\n",
              "+---+-----+\n",
              "only showing top 2 rows\n",
              "\n",
              "Show :class:`DataFrame` where the maximum number of characters is 3.\n",
              "\n",
              "&gt;&gt;&gt; df.show(truncate=3)\n",
              "+---+----+\n",
              "|age|name|\n",
              "+---+----+\n",
              "| 14| Tom|\n",
              "| 23| Ali|\n",
              "| 16| Bob|\n",
              "+---+----+\n",
              "\n",
              "Show :class:`DataFrame` vertically.\n",
              "\n",
              "&gt;&gt;&gt; df.show(vertical=True)\n",
              "-RECORD 0-----\n",
              "age  | 14\n",
              "name | Tom\n",
              "-RECORD 1-----\n",
              "age  | 23\n",
              "name | Alice\n",
              "-RECORD 2-----\n",
              "age  | 16\n",
              "name | Bob</pre>\n",
              "      <script>\n",
              "      if (google.colab.kernel.accessAllowed && google.colab.files && google.colab.files.view) {\n",
              "        for (const element of document.querySelectorAll('.filepath')) {\n",
              "          element.style.display = 'block'\n",
              "          element.onclick = (event) => {\n",
              "            event.preventDefault();\n",
              "            event.stopPropagation();\n",
              "            google.colab.files.view(element.textContent, 887);\n",
              "          };\n",
              "        }\n",
              "      }\n",
              "      for (const element of document.querySelectorAll('.function-repr-contents')) {\n",
              "        element.onclick = (event) => {\n",
              "          event.preventDefault();\n",
              "          event.stopPropagation();\n",
              "          element.classList.toggle('function-repr-contents-collapsed');\n",
              "        };\n",
              "      }\n",
              "      </script>\n",
              "      </div>"
            ]
          },
          "metadata": {},
          "execution_count": 127
        }
      ]
    },
    {
      "cell_type": "code",
      "source": [
        "evaluator_gbt = RegressionEvaluator(labelCol='total')\n",
        "rmse_gbt = evaluator_gbt.evaluate(predictions_gbt)\n",
        "print(f\"RMSE: {rmse_gbt}\")"
      ],
      "metadata": {
        "colab": {
          "base_uri": "https://localhost:8080/"
        },
        "id": "X-oiq_-cYdeK",
        "outputId": "c55cb1ef-8fbd-4ef0-a0b8-9498c85df807"
      },
      "execution_count": 129,
      "outputs": [
        {
          "output_type": "stream",
          "name": "stdout",
          "text": [
            "RMSE: 16.130322581581613\n"
          ]
        }
      ]
    },
    {
      "cell_type": "code",
      "source": [
        "# this is an additional step to add the gbt_predictions into the data_frame\n",
        "data_frame = data_frame.join(predictions_gbt.select('features', predictions_gbt['prediction'].alias('gbt_prediction')), on='features', how='inner')\n",
        "data_frame.show()"
      ],
      "metadata": {
        "colab": {
          "base_uri": "https://localhost:8080/"
        },
        "id": "XpwLmF_luZBU",
        "outputId": "9e1b0bae-5d5c-4057-910d-d5de25167b37"
      },
      "execution_count": 185,
      "outputs": [
        {
          "output_type": "stream",
          "name": "stdout",
          "text": [
            "+--------------------+--------------------+--------------------+----+-------+-----+-----------+--------------+-----+------------------+-------------------+------------------+-------------------+--------------------+------------------+------------------+------------------+------------------+\n",
            "|            features|        batting_team|        bowling_team|runs|wickets|overs|runs_last_5|wickets_last_5|total|batting_team_index|batting_team_vector|bowling_team_index|bowling_team_vector|        pca_features|     lr_prediction|    dtr_prediction|    rfr_prediction|    gbt_prediction|\n",
            "+--------------------+--------------------+--------------------+----+-------+-----+-----------+--------------+-----+------------------+-------------------+------------------+-------------------+--------------------+------------------+------------------+------------------+------------------+\n",
            "|[61.0,0.0,5.1,59....|Kolkata Knight Ri...|Royal Challengers...|  61|      0|  5.1|         59|             0|  222|               4.0|      (7,[4],[1.0])|               2.0|      (7,[2],[1.0])|[-70.282032081893...|191.05811112075722|  188.876130198915|189.75908509140447| 183.9160116799757|\n",
            "|[61.0,1.0,5.2,59....|Kolkata Knight Ri...|Royal Challengers...|  61|      1|  5.2|         59|             1|  222|               4.0|      (7,[4],[1.0])|               2.0|      (7,[2],[1.0])|[-70.309321872189...|184.25323988562516|  188.876130198915|188.20430008039858|  177.069628711345|\n",
            "|[61.0,1.0,5.3,59....|Kolkata Knight Ri...|Royal Challengers...|  61|      1|  5.3|         59|             1|  222|               4.0|      (7,[4],[1.0])|               2.0|      (7,[2],[1.0])|[-70.318345309716...|183.62012722646577|  188.876130198915|188.20430008039858|  177.069628711345|\n",
            "|[61.0,1.0,5.4,59....|Kolkata Knight Ri...|Royal Challengers...|  61|      1|  5.4|         59|             1|  222|               4.0|      (7,[4],[1.0])|               2.0|      (7,[2],[1.0])|[-70.327368747243...|182.98701456730635|  188.876130198915|188.20430008039858|  177.069628711345|\n",
            "|[61.0,1.0,5.5,58....|Kolkata Knight Ri...|Royal Challengers...|  61|      1|  5.5|         58|             1|  222|               4.0|      (7,[4],[1.0])|               2.0|      (7,[2],[1.0])|[-70.167555720489...|182.35065768021775|  188.876130198915|188.20430008039858|  177.069628711345|\n",
            "|[61.0,1.0,5.6,58....|Kolkata Knight Ri...|Royal Challengers...|  61|      1|  5.6|         58|             1|  222|               4.0|      (7,[4],[1.0])|               2.0|      (7,[2],[1.0])|[-70.176579158016...|181.71754502105833|  188.876130198915|188.20430008039858|  177.069628711345|\n",
            "|[62.0,1.0,6.1,55....|Kolkata Knight Ri...|Royal Challengers...|  62|      1|  6.1|         55|             1|  222|               4.0|      (7,[4],[1.0])|               2.0|      (7,[2],[1.0])|[-70.696562680255...| 179.5002761586327|  188.876130198915| 187.2673721014033| 175.2210064658223|\n",
            "|[63.0,1.0,6.2,52....|Kolkata Knight Ri...|Royal Challengers...|  63|      1|  6.2|         52|             1|  222|               4.0|      (7,[4],[1.0])|               2.0|      (7,[2],[1.0])|[-71.180452452386...|179.81545793284468|  188.876130198915| 187.2673721014033| 175.2210064658223|\n",
            "|[64.0,1.0,6.3,47....|Kolkata Knight Ri...|Royal Challengers...|  64|      1|  6.3|         47|             1|  222|               4.0|      (7,[4],[1.0])|               2.0|      (7,[2],[1.0])|[-71.326669295955...|180.12415125119827|177.31890874882407| 180.6133392590447| 172.6215338270777|\n",
            "|[66.0,1.0,6.4,45....|Kolkata Knight Ri...|Royal Challengers...|  66|      1|  6.4|         45|             1|  222|               4.0|      (7,[4],[1.0])|               2.0|      (7,[2],[1.0])|[-72.960771259814...|181.40060437049843|177.31890874882407| 180.6133392590447| 172.9171318587233|\n",
            "|[67.0,1.0,6.5,46....|Kolkata Knight Ri...|Royal Challengers...|  67|      1|  6.5|         46|             1|  222|               4.0|      (7,[4],[1.0])|               2.0|      (7,[2],[1.0])|[-74.120006889070...| 181.7287630564272|177.31890874882407| 180.6133392590447| 172.9171318587233|\n",
            "|[68.0,1.0,6.6,47....|Kolkata Knight Ri...|Royal Challengers...|  68|      1|  6.6|         47|             1|  222|               4.0|      (7,[4],[1.0])|               2.0|      (7,[2],[1.0])|[-75.279242518326...|182.05692174235597|177.31890874882407| 180.6133392590447| 172.9171318587233|\n",
            "|[68.0,1.0,7.1,47....|Kolkata Knight Ri...|Royal Challengers...|  68|      1|  7.1|         47|             1|  222|               4.0|      (7,[4],[1.0])|               2.0|      (7,[2],[1.0])|[-75.324359705961...| 178.8913584465589|177.31890874882407| 180.6133392590447| 172.9171318587233|\n",
            "|[69.0,1.0,7.2,47....|Kolkata Knight Ri...|Royal Challengers...|  69|      1|  7.2|         47|             1|  222|               4.0|      (7,[4],[1.0])|               2.0|      (7,[2],[1.0])|[-76.314758870936...|179.21627290455848|177.31890874882407| 180.6133392590447| 174.0212155483227|\n",
            "|[70.0,1.0,7.3,44....|Kolkata Knight Ri...|Royal Challengers...|  70|      1|  7.3|         44|             1|  222|               4.0|      (7,[4],[1.0])|               2.0|      (7,[2],[1.0])|[-76.798648643067...|179.53145467877047|177.31890874882407|179.43037324756196| 174.0212155483227|\n",
            "|[71.0,1.0,7.4,44....|Kolkata Knight Ri...|Royal Challengers...|  71|      1|  7.4|         44|             1|  222|               4.0|      (7,[4],[1.0])|               2.0|      (7,[2],[1.0])|[-77.789047808042...|179.85636913677004|177.31890874882407|179.43037324756196| 174.0212155483227|\n",
            "|[72.0,1.0,7.5,45....|Kolkata Knight Ri...|Royal Challengers...|  72|      1|  7.5|         45|             1|  222|               4.0|      (7,[4],[1.0])|               2.0|      (7,[2],[1.0])|[-78.948283437297...| 180.1845278226988|177.31890874882407| 180.6133392590447| 174.0212155483227|\n",
            "|[73.0,1.0,7.6,41....|Kolkata Knight Ri...|Royal Challengers...|  73|      1|  7.6|         41|             1|  222|               4.0|      (7,[4],[1.0])|               2.0|      (7,[2],[1.0])|[-79.263336745147...| 180.4964653689816|177.31890874882407|179.43037324756196| 174.0212155483227|\n",
            "|[73.0,1.0,8.1,35....|Kolkata Knight Ri...|Royal Challengers...|  73|      1|  8.1|         35|             1|  222|               4.0|      (7,[4],[1.0])|               2.0|      (7,[2],[1.0])|[-78.295435147095...| 177.3114367056094|185.53346855983773|172.57232031645268|184.78385742007268|\n",
            "|[73.0,1.0,8.2,34....|Kolkata Knight Ri...|Royal Challengers...|  73|      1|  8.2|         34|             1|  222|               4.0|      (7,[4],[1.0])|               2.0|      (7,[2],[1.0])|[-78.135622120341...| 176.6750798185208|185.53346855983773|172.57232031645268| 184.6239066525211|\n",
            "+--------------------+--------------------+--------------------+----+-------+-----+-----------+--------------+-----+------------------+-------------------+------------------+-------------------+--------------------+------------------+------------------+------------------+------------------+\n",
            "only showing top 20 rows\n",
            "\n"
          ]
        }
      ]
    },
    {
      "cell_type": "markdown",
      "source": [
        "# Stacking Method"
      ],
      "metadata": {
        "id": "TgmItwBM17ZT"
      }
    },
    {
      "cell_type": "code",
      "source": [
        "# since all the models are not performing well than exepcted so we will apply stacking method here....\n",
        "assembler = VectorAssembler(inputCols=['lr_prediction','dtr_prediction','rfr_prediction','gbt_prediction'],outputCol='output_features')\n",
        "data_frame = assembler.transform(data_frame)\n",
        "data_frame.show()\n"
      ],
      "metadata": {
        "colab": {
          "base_uri": "https://localhost:8080/"
        },
        "id": "-ovrjaTylnB-",
        "outputId": "a095f6ab-b911-47d0-8b00-e1557f764b85"
      },
      "execution_count": 186,
      "outputs": [
        {
          "output_type": "stream",
          "name": "stdout",
          "text": [
            "+--------------------+--------------------+--------------------+----+-------+-----+-----------+--------------+-----+------------------+-------------------+------------------+-------------------+--------------------+------------------+------------------+------------------+------------------+--------------------+\n",
            "|            features|        batting_team|        bowling_team|runs|wickets|overs|runs_last_5|wickets_last_5|total|batting_team_index|batting_team_vector|bowling_team_index|bowling_team_vector|        pca_features|     lr_prediction|    dtr_prediction|    rfr_prediction|    gbt_prediction|     output_features|\n",
            "+--------------------+--------------------+--------------------+----+-------+-----+-----------+--------------+-----+------------------+-------------------+------------------+-------------------+--------------------+------------------+------------------+------------------+------------------+--------------------+\n",
            "|[61.0,0.0,5.1,59....|Kolkata Knight Ri...|Royal Challengers...|  61|      0|  5.1|         59|             0|  222|               4.0|      (7,[4],[1.0])|               2.0|      (7,[2],[1.0])|[-70.282032081893...|191.05811112075722|  188.876130198915|189.75908509140447| 183.9160116799757|[191.058111120757...|\n",
            "|[61.0,1.0,5.2,59....|Kolkata Knight Ri...|Royal Challengers...|  61|      1|  5.2|         59|             1|  222|               4.0|      (7,[4],[1.0])|               2.0|      (7,[2],[1.0])|[-70.309321872189...|184.25323988562516|  188.876130198915|188.20430008039858|  177.069628711345|[184.253239885625...|\n",
            "|[61.0,1.0,5.3,59....|Kolkata Knight Ri...|Royal Challengers...|  61|      1|  5.3|         59|             1|  222|               4.0|      (7,[4],[1.0])|               2.0|      (7,[2],[1.0])|[-70.318345309716...|183.62012722646577|  188.876130198915|188.20430008039858|  177.069628711345|[183.620127226465...|\n",
            "|[61.0,1.0,5.4,59....|Kolkata Knight Ri...|Royal Challengers...|  61|      1|  5.4|         59|             1|  222|               4.0|      (7,[4],[1.0])|               2.0|      (7,[2],[1.0])|[-70.327368747243...|182.98701456730635|  188.876130198915|188.20430008039858|  177.069628711345|[182.987014567306...|\n",
            "|[61.0,1.0,5.5,58....|Kolkata Knight Ri...|Royal Challengers...|  61|      1|  5.5|         58|             1|  222|               4.0|      (7,[4],[1.0])|               2.0|      (7,[2],[1.0])|[-70.167555720489...|182.35065768021775|  188.876130198915|188.20430008039858|  177.069628711345|[182.350657680217...|\n",
            "|[61.0,1.0,5.6,58....|Kolkata Knight Ri...|Royal Challengers...|  61|      1|  5.6|         58|             1|  222|               4.0|      (7,[4],[1.0])|               2.0|      (7,[2],[1.0])|[-70.176579158016...|181.71754502105833|  188.876130198915|188.20430008039858|  177.069628711345|[181.717545021058...|\n",
            "|[62.0,1.0,6.1,55....|Kolkata Knight Ri...|Royal Challengers...|  62|      1|  6.1|         55|             1|  222|               4.0|      (7,[4],[1.0])|               2.0|      (7,[2],[1.0])|[-70.696562680255...| 179.5002761586327|  188.876130198915| 187.2673721014033| 175.2210064658223|[179.500276158632...|\n",
            "|[63.0,1.0,6.2,52....|Kolkata Knight Ri...|Royal Challengers...|  63|      1|  6.2|         52|             1|  222|               4.0|      (7,[4],[1.0])|               2.0|      (7,[2],[1.0])|[-71.180452452386...|179.81545793284468|  188.876130198915| 187.2673721014033| 175.2210064658223|[179.815457932844...|\n",
            "|[64.0,1.0,6.3,47....|Kolkata Knight Ri...|Royal Challengers...|  64|      1|  6.3|         47|             1|  222|               4.0|      (7,[4],[1.0])|               2.0|      (7,[2],[1.0])|[-71.326669295955...|180.12415125119827|177.31890874882407| 180.6133392590447| 172.6215338270777|[180.124151251198...|\n",
            "|[66.0,1.0,6.4,45....|Kolkata Knight Ri...|Royal Challengers...|  66|      1|  6.4|         45|             1|  222|               4.0|      (7,[4],[1.0])|               2.0|      (7,[2],[1.0])|[-72.960771259814...|181.40060437049843|177.31890874882407| 180.6133392590447| 172.9171318587233|[181.400604370498...|\n",
            "|[67.0,1.0,6.5,46....|Kolkata Knight Ri...|Royal Challengers...|  67|      1|  6.5|         46|             1|  222|               4.0|      (7,[4],[1.0])|               2.0|      (7,[2],[1.0])|[-74.120006889070...| 181.7287630564272|177.31890874882407| 180.6133392590447| 172.9171318587233|[181.728763056427...|\n",
            "|[68.0,1.0,6.6,47....|Kolkata Knight Ri...|Royal Challengers...|  68|      1|  6.6|         47|             1|  222|               4.0|      (7,[4],[1.0])|               2.0|      (7,[2],[1.0])|[-75.279242518326...|182.05692174235597|177.31890874882407| 180.6133392590447| 172.9171318587233|[182.056921742355...|\n",
            "|[68.0,1.0,7.1,47....|Kolkata Knight Ri...|Royal Challengers...|  68|      1|  7.1|         47|             1|  222|               4.0|      (7,[4],[1.0])|               2.0|      (7,[2],[1.0])|[-75.324359705961...| 178.8913584465589|177.31890874882407| 180.6133392590447| 172.9171318587233|[178.891358446558...|\n",
            "|[69.0,1.0,7.2,47....|Kolkata Knight Ri...|Royal Challengers...|  69|      1|  7.2|         47|             1|  222|               4.0|      (7,[4],[1.0])|               2.0|      (7,[2],[1.0])|[-76.314758870936...|179.21627290455848|177.31890874882407| 180.6133392590447| 174.0212155483227|[179.216272904558...|\n",
            "|[70.0,1.0,7.3,44....|Kolkata Knight Ri...|Royal Challengers...|  70|      1|  7.3|         44|             1|  222|               4.0|      (7,[4],[1.0])|               2.0|      (7,[2],[1.0])|[-76.798648643067...|179.53145467877047|177.31890874882407|179.43037324756196| 174.0212155483227|[179.531454678770...|\n",
            "|[71.0,1.0,7.4,44....|Kolkata Knight Ri...|Royal Challengers...|  71|      1|  7.4|         44|             1|  222|               4.0|      (7,[4],[1.0])|               2.0|      (7,[2],[1.0])|[-77.789047808042...|179.85636913677004|177.31890874882407|179.43037324756196| 174.0212155483227|[179.856369136770...|\n",
            "|[72.0,1.0,7.5,45....|Kolkata Knight Ri...|Royal Challengers...|  72|      1|  7.5|         45|             1|  222|               4.0|      (7,[4],[1.0])|               2.0|      (7,[2],[1.0])|[-78.948283437297...| 180.1845278226988|177.31890874882407| 180.6133392590447| 174.0212155483227|[180.184527822698...|\n",
            "|[73.0,1.0,7.6,41....|Kolkata Knight Ri...|Royal Challengers...|  73|      1|  7.6|         41|             1|  222|               4.0|      (7,[4],[1.0])|               2.0|      (7,[2],[1.0])|[-79.263336745147...| 180.4964653689816|177.31890874882407|179.43037324756196| 174.0212155483227|[180.496465368981...|\n",
            "|[73.0,1.0,8.1,35....|Kolkata Knight Ri...|Royal Challengers...|  73|      1|  8.1|         35|             1|  222|               4.0|      (7,[4],[1.0])|               2.0|      (7,[2],[1.0])|[-78.295435147095...| 177.3114367056094|185.53346855983773|172.57232031645268|184.78385742007268|[177.311436705609...|\n",
            "|[73.0,1.0,8.2,34....|Kolkata Knight Ri...|Royal Challengers...|  73|      1|  8.2|         34|             1|  222|               4.0|      (7,[4],[1.0])|               2.0|      (7,[2],[1.0])|[-78.135622120341...| 176.6750798185208|185.53346855983773|172.57232031645268| 184.6239066525211|[176.675079818520...|\n",
            "+--------------------+--------------------+--------------------+----+-------+-----+-----------+--------------+-----+------------------+-------------------+------------------+-------------------+--------------------+------------------+------------------+------------------+------------------+--------------------+\n",
            "only showing top 20 rows\n",
            "\n"
          ]
        }
      ]
    },
    {
      "cell_type": "code",
      "source": [
        "# since we got better rmse for gbt so we will use gbt here.....\n",
        "meta_learner = GBTRegressor(featuresCol='output_features',labelCol='total')\n",
        "cvModel_meta = CrossValidator(estimator=meta_learner,estimatorParamMaps=paramGrid, evaluator=RegressionEvaluator(labelCol='total'),numFolds=3)\n",
        "cv_meta = cvModel_meta.fit(data_frame)\n",
        "cv_predictions = cv_meta.transform(data_frame)\n",
        "cv_predictions.select('total','prediction').show()"
      ],
      "metadata": {
        "colab": {
          "base_uri": "https://localhost:8080/"
        },
        "id": "ejtMpDMRv0HU",
        "outputId": "4a27baec-a288-46aa-c815-c30307aa9f01"
      },
      "execution_count": 190,
      "outputs": [
        {
          "output_type": "stream",
          "name": "stdout",
          "text": [
            "+-----+------------------+\n",
            "|total|        prediction|\n",
            "+-----+------------------+\n",
            "|  222|187.82933765540378|\n",
            "|  222|174.54975900969433|\n",
            "|  222|174.54975900969433|\n",
            "|  222|174.54975900969433|\n",
            "|  222|174.54975900969433|\n",
            "|  222|174.54975900969433|\n",
            "|  222|174.54975900969433|\n",
            "|  222|174.54975900969433|\n",
            "|  222|178.97835659799588|\n",
            "|  222|178.97835659799588|\n",
            "|  222|178.97835659799588|\n",
            "|  222|178.97835659799588|\n",
            "|  222|178.97835659799588|\n",
            "|  222|178.97835659799588|\n",
            "|  222|178.97835659799588|\n",
            "|  222|178.97835659799588|\n",
            "|  222|178.97835659799588|\n",
            "|  222|178.97835659799588|\n",
            "|  222|186.32799593713156|\n",
            "|  222|186.32799593713156|\n",
            "+-----+------------------+\n",
            "only showing top 20 rows\n",
            "\n"
          ]
        }
      ]
    },
    {
      "cell_type": "code",
      "source": [
        "evaluator = RegressionEvaluator(labelCol='total')\n",
        "rmse_meta = evaluator.evaluate(cv_predictions)\n",
        "print(f\"RMSE: {rmse_meta}\")"
      ],
      "metadata": {
        "colab": {
          "base_uri": "https://localhost:8080/"
        },
        "id": "hhD-1FtIy7pu",
        "outputId": "7592788b-1f85-43aa-b5eb-20060d5f2eda"
      },
      "execution_count": 191,
      "outputs": [
        {
          "output_type": "stream",
          "name": "stdout",
          "text": [
            "RMSE: 15.151120024955409\n"
          ]
        }
      ]
    },
    {
      "cell_type": "code",
      "source": [
        "# The error only reduced to 15. Let's try Linear Regression\n",
        "meta_learner = LinearRegression(featuresCol='output_features',labelCol='total')\n",
        "cvModel_meta = CrossValidator(estimator=meta_learner,estimatorParamMaps=paramGrid, evaluator=RegressionEvaluator(labelCol='total'),numFolds=3)\n",
        "cv_meta = cvModel_meta.fit(data_frame)\n",
        "cv_predictions = cv_meta.transform(data_frame)\n",
        "cv_predictions.select('total','prediction').show()"
      ],
      "metadata": {
        "colab": {
          "base_uri": "https://localhost:8080/"
        },
        "id": "7E_vBJykzQL1",
        "outputId": "bbb5ec42-94b1-4cce-fcc8-9db8de7d259f"
      },
      "execution_count": 192,
      "outputs": [
        {
          "output_type": "stream",
          "name": "stdout",
          "text": [
            "+-----+------------------+\n",
            "|total|        prediction|\n",
            "+-----+------------------+\n",
            "|  222|183.97925773887647|\n",
            "|  222| 174.5908500005827|\n",
            "|  222|174.40272295949777|\n",
            "|  222|174.21459591841278|\n",
            "|  222|174.02550486722302|\n",
            "|  222|173.83737782613807|\n",
            "|  222| 171.1829185896324|\n",
            "|  222| 171.2765736662267|\n",
            "|  222|173.01220339695226|\n",
            "|  222| 173.7086910265407|\n",
            "|  222|173.80620214355432|\n",
            "|  222|173.90371326056794|\n",
            "|  222|172.96307805514317|\n",
            "|  222|174.24437309791224|\n",
            "|  222|174.32297324713764|\n",
            "|  222|174.41952035404645|\n",
            "|  222|  174.532086398429|\n",
            "|  222|174.60972253754957|\n",
            "|  222|181.91373032078198|\n",
            "|  222|181.55300251462413|\n",
            "+-----+------------------+\n",
            "only showing top 20 rows\n",
            "\n"
          ]
        }
      ]
    },
    {
      "cell_type": "code",
      "source": [
        "evaluator = RegressionEvaluator(labelCol='total')\n",
        "rmse_meta = evaluator.evaluate(cv_predictions)\n",
        "print(f\"RMSE: {rmse_meta}\")"
      ],
      "metadata": {
        "colab": {
          "base_uri": "https://localhost:8080/"
        },
        "id": "HJyiOzI30b6c",
        "outputId": "e7b2c0a6-63ba-4a7f-a8fe-ce3acfe684a7"
      },
      "execution_count": 193,
      "outputs": [
        {
          "output_type": "stream",
          "name": "stdout",
          "text": [
            "RMSE: 15.627277272843829\n"
          ]
        }
      ]
    },
    {
      "cell_type": "code",
      "source": [
        "# out of this GBT Regressor model performed well compared to other 3 models. so we will take this model."
      ],
      "metadata": {
        "id": "yn6L0S_lYt2T"
      },
      "execution_count": null,
      "outputs": []
    },
    {
      "cell_type": "markdown",
      "source": [
        "# Testing The Model on Real Data"
      ],
      "metadata": {
        "id": "6n0C99nvYmYk"
      }
    },
    {
      "cell_type": "code",
      "source": [
        "from pyspark.sql import Row\n",
        "def predict_score(runs,wickets,overs,runs_last_5,wickets_last_5,batting_team_index,bowling_team_index):\n",
        "  data = [Row(runs=runs, wickets=wickets, overs=overs, runs_last_5=runs_last_5,\n",
        "                wickets_last_5=wickets_last_5, batting_team_index=batting_team_index,\n",
        "                bowling_team_index=bowling_team_index)]\n",
        "  batt_name = teams_index.get(batting_team_index)\n",
        "  bowl_name = teams_index.get(bowling_team_index)\n",
        "  exp_df = spark.createDataFrame(data)\n",
        "  exp_assembler = VectorAssembler(inputCols=features,outputCol='features')\n",
        "  exp_df = exp_assembler.transform(exp_df)\n",
        "  exp_df = cv_gbt.transform(exp_df)\n",
        "  print(f\"{batt_name} v/s {bowl_name}\")\n",
        "  print(f\"{batt_name}: {runs}/{wickets}\")\n",
        "  print(f\"Overs: {overs}/20\")\n",
        "  pred_score = exp_df.select('prediction').collect()[0]['prediction']\n",
        "  print(f\"Predicted Score is: {round(pred_score)}\")"
      ],
      "metadata": {
        "id": "JDr3qlVyYqme"
      },
      "execution_count": 147,
      "outputs": []
    },
    {
      "cell_type": "code",
      "source": [
        "predict_score(50,3,8,10,1,1,2)"
      ],
      "metadata": {
        "colab": {
          "base_uri": "https://localhost:8080/"
        },
        "id": "dsyeSdupaP-9",
        "outputId": "491bdeab-2b2d-49a5-8b66-4ca2e238fa08"
      },
      "execution_count": 148,
      "outputs": [
        {
          "output_type": "stream",
          "name": "stdout",
          "text": [
            "Kings XI Punjab v/s Chennai Super Kings\n",
            "Kings XI Punjab: 50/3\n",
            "Overs: 8/20\n",
            "Predicted Score is: 135\n"
          ]
        }
      ]
    },
    {
      "cell_type": "code",
      "source": [
        "predict_score(100,0,10,26,0,1,2)"
      ],
      "metadata": {
        "colab": {
          "base_uri": "https://localhost:8080/"
        },
        "id": "_3YOC_5za1uh",
        "outputId": "ff020618-fdeb-4327-f6ee-e90dc2fea30f"
      },
      "execution_count": 149,
      "outputs": [
        {
          "output_type": "stream",
          "name": "stdout",
          "text": [
            "Kings XI Punjab v/s Chennai Super Kings\n",
            "Kings XI Punjab: 100/0\n",
            "Overs: 10/20\n",
            "Predicted Score is: 194\n"
          ]
        }
      ]
    },
    {
      "cell_type": "code",
      "source": [
        "predict_score(100,0,7,50,0,4,7)"
      ],
      "metadata": {
        "colab": {
          "base_uri": "https://localhost:8080/"
        },
        "id": "BnMJjh2PbJZR",
        "outputId": "3010d266-d5ad-4ac6-e1b1-3a905b86f1e0"
      },
      "execution_count": 150,
      "outputs": [
        {
          "output_type": "stream",
          "name": "stdout",
          "text": [
            "Kolkata Knight Riders v/s Sunrisers Hyderabad\n",
            "Kolkata Knight Riders: 100/0\n",
            "Overs: 7/20\n",
            "Predicted Score is: 202\n"
          ]
        }
      ]
    },
    {
      "cell_type": "code",
      "source": [
        "predict_score(115,3,9,36,1,3,5)"
      ],
      "metadata": {
        "colab": {
          "base_uri": "https://localhost:8080/"
        },
        "id": "v1e0cPkxfrN7",
        "outputId": "3b5ebaa1-a82c-4077-be70-d50928b3768e"
      },
      "execution_count": 157,
      "outputs": [
        {
          "output_type": "stream",
          "name": "stdout",
          "text": [
            "Royal Challengers Bangalore v/s Rajasthan Royals\n",
            "Royal Challengers Bangalore: 115/3\n",
            "Overs: 9/20\n",
            "Predicted Score is: 199\n"
          ]
        }
      ]
    }
  ]
}